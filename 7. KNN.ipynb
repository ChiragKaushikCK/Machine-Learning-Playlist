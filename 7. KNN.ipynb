{
 "cells": [
  {
   "cell_type": "code",
   "execution_count": 0,
   "metadata": {
    "application/vnd.databricks.v1+cell": {
     "cellMetadata": {
      "byteLimit": 2048000,
      "rowLimit": 10000
     },
     "inputWidgets": {},
     "nuid": "03c26483-2fd8-4d9f-aa60-b3aa31d025e6",
     "showTitle": false,
     "tableResultSettingsMap": {},
     "title": ""
    }
   },
   "outputs": [],
   "source": [
    "df=spark.read.csv('/FileStore/tables/Social_Network_Ads.csv',header=True)"
   ]
  },
  {
   "cell_type": "code",
   "execution_count": 0,
   "metadata": {
    "application/vnd.databricks.v1+cell": {
     "cellMetadata": {
      "byteLimit": 2048000,
      "rowLimit": 10000
     },
     "inputWidgets": {},
     "nuid": "f4effad3-a5aa-4bb1-beae-3483349daa2b",
     "showTitle": false,
     "tableResultSettingsMap": {},
     "title": ""
    }
   },
   "outputs": [
    {
     "output_type": "display_data",
     "data": {
      "text/html": [
       "<div>\n",
       "<style scoped>\n",
       "    .dataframe tbody tr th:only-of-type {\n",
       "        vertical-align: middle;\n",
       "    }\n",
       "\n",
       "    .dataframe tbody tr th {\n",
       "        vertical-align: top;\n",
       "    }\n",
       "\n",
       "    .dataframe thead th {\n",
       "        text-align: right;\n",
       "    }\n",
       "</style>\n",
       "<table border=\"1\" class=\"dataframe\">\n",
       "  <thead>\n",
       "    <tr style=\"text-align: right;\">\n",
       "      <th></th>\n",
       "      <th>User ID</th>\n",
       "      <th>Gender</th>\n",
       "      <th>Age</th>\n",
       "      <th>EstimatedSalary</th>\n",
       "      <th>Purchased</th>\n",
       "    </tr>\n",
       "  </thead>\n",
       "  <tbody>\n",
       "    <tr>\n",
       "      <th>0</th>\n",
       "      <td>15624510</td>\n",
       "      <td>Male</td>\n",
       "      <td>19</td>\n",
       "      <td>19000</td>\n",
       "      <td>0</td>\n",
       "    </tr>\n",
       "    <tr>\n",
       "      <th>1</th>\n",
       "      <td>15810944</td>\n",
       "      <td>Male</td>\n",
       "      <td>35</td>\n",
       "      <td>20000</td>\n",
       "      <td>0</td>\n",
       "    </tr>\n",
       "    <tr>\n",
       "      <th>2</th>\n",
       "      <td>15668575</td>\n",
       "      <td>Female</td>\n",
       "      <td>26</td>\n",
       "      <td>43000</td>\n",
       "      <td>0</td>\n",
       "    </tr>\n",
       "    <tr>\n",
       "      <th>3</th>\n",
       "      <td>15603246</td>\n",
       "      <td>Female</td>\n",
       "      <td>27</td>\n",
       "      <td>57000</td>\n",
       "      <td>0</td>\n",
       "    </tr>\n",
       "    <tr>\n",
       "      <th>4</th>\n",
       "      <td>15804002</td>\n",
       "      <td>Male</td>\n",
       "      <td>19</td>\n",
       "      <td>76000</td>\n",
       "      <td>0</td>\n",
       "    </tr>\n",
       "    <tr>\n",
       "      <th>...</th>\n",
       "      <td>...</td>\n",
       "      <td>...</td>\n",
       "      <td>...</td>\n",
       "      <td>...</td>\n",
       "      <td>...</td>\n",
       "    </tr>\n",
       "    <tr>\n",
       "      <th>395</th>\n",
       "      <td>15691863</td>\n",
       "      <td>Female</td>\n",
       "      <td>46</td>\n",
       "      <td>41000</td>\n",
       "      <td>1</td>\n",
       "    </tr>\n",
       "    <tr>\n",
       "      <th>396</th>\n",
       "      <td>15706071</td>\n",
       "      <td>Male</td>\n",
       "      <td>51</td>\n",
       "      <td>23000</td>\n",
       "      <td>1</td>\n",
       "    </tr>\n",
       "    <tr>\n",
       "      <th>397</th>\n",
       "      <td>15654296</td>\n",
       "      <td>Female</td>\n",
       "      <td>50</td>\n",
       "      <td>20000</td>\n",
       "      <td>1</td>\n",
       "    </tr>\n",
       "    <tr>\n",
       "      <th>398</th>\n",
       "      <td>15755018</td>\n",
       "      <td>Male</td>\n",
       "      <td>36</td>\n",
       "      <td>33000</td>\n",
       "      <td>0</td>\n",
       "    </tr>\n",
       "    <tr>\n",
       "      <th>399</th>\n",
       "      <td>15594041</td>\n",
       "      <td>Female</td>\n",
       "      <td>49</td>\n",
       "      <td>36000</td>\n",
       "      <td>1</td>\n",
       "    </tr>\n",
       "  </tbody>\n",
       "</table>\n",
       "<p>400 rows × 5 columns</p>\n",
       "</div>"
      ]
     },
     "metadata": {
      "application/vnd.databricks.v1+output": {
       "addedWidgets": {},
       "arguments": {},
       "data": "<div>\n<style scoped>\n    .dataframe tbody tr th:only-of-type {\n        vertical-align: middle;\n    }\n\n    .dataframe tbody tr th {\n        vertical-align: top;\n    }\n\n    .dataframe thead th {\n        text-align: right;\n    }\n</style>\n<table border=\"1\" class=\"dataframe\">\n  <thead>\n    <tr style=\"text-align: right;\">\n      <th></th>\n      <th>User ID</th>\n      <th>Gender</th>\n      <th>Age</th>\n      <th>EstimatedSalary</th>\n      <th>Purchased</th>\n    </tr>\n  </thead>\n  <tbody>\n    <tr>\n      <th>0</th>\n      <td>15624510</td>\n      <td>Male</td>\n      <td>19</td>\n      <td>19000</td>\n      <td>0</td>\n    </tr>\n    <tr>\n      <th>1</th>\n      <td>15810944</td>\n      <td>Male</td>\n      <td>35</td>\n      <td>20000</td>\n      <td>0</td>\n    </tr>\n    <tr>\n      <th>2</th>\n      <td>15668575</td>\n      <td>Female</td>\n      <td>26</td>\n      <td>43000</td>\n      <td>0</td>\n    </tr>\n    <tr>\n      <th>3</th>\n      <td>15603246</td>\n      <td>Female</td>\n      <td>27</td>\n      <td>57000</td>\n      <td>0</td>\n    </tr>\n    <tr>\n      <th>4</th>\n      <td>15804002</td>\n      <td>Male</td>\n      <td>19</td>\n      <td>76000</td>\n      <td>0</td>\n    </tr>\n    <tr>\n      <th>...</th>\n      <td>...</td>\n      <td>...</td>\n      <td>...</td>\n      <td>...</td>\n      <td>...</td>\n    </tr>\n    <tr>\n      <th>395</th>\n      <td>15691863</td>\n      <td>Female</td>\n      <td>46</td>\n      <td>41000</td>\n      <td>1</td>\n    </tr>\n    <tr>\n      <th>396</th>\n      <td>15706071</td>\n      <td>Male</td>\n      <td>51</td>\n      <td>23000</td>\n      <td>1</td>\n    </tr>\n    <tr>\n      <th>397</th>\n      <td>15654296</td>\n      <td>Female</td>\n      <td>50</td>\n      <td>20000</td>\n      <td>1</td>\n    </tr>\n    <tr>\n      <th>398</th>\n      <td>15755018</td>\n      <td>Male</td>\n      <td>36</td>\n      <td>33000</td>\n      <td>0</td>\n    </tr>\n    <tr>\n      <th>399</th>\n      <td>15594041</td>\n      <td>Female</td>\n      <td>49</td>\n      <td>36000</td>\n      <td>1</td>\n    </tr>\n  </tbody>\n</table>\n<p>400 rows × 5 columns</p>\n</div>",
       "datasetInfos": [],
       "metadata": {},
       "removedWidgets": [],
       "textData": null,
       "type": "htmlSandbox"
      }
     },
     "output_type": "display_data"
    }
   ],
   "source": [
    "df=df.toPandas()\n",
    "df"
   ]
  },
  {
   "cell_type": "code",
   "execution_count": 0,
   "metadata": {
    "application/vnd.databricks.v1+cell": {
     "cellMetadata": {
      "byteLimit": 2048000,
      "rowLimit": 10000
     },
     "inputWidgets": {},
     "nuid": "c7f2066f-7831-406d-ab2f-13dfa16f2e50",
     "showTitle": false,
     "tableResultSettingsMap": {},
     "title": ""
    }
   },
   "outputs": [
    {
     "output_type": "stream",
     "name": "stdout",
     "output_type": "stream",
     "text": [
      "Out[5]: array([['19', '19000'],\n       ['35', '20000'],\n       ['26', '43000'],\n       ['27', '57000'],\n       ['19', '76000'],\n       ['27', '58000'],\n       ['27', '84000'],\n       ['32', '150000'],\n       ['25', '33000'],\n       ['35', '65000'],\n       ['26', '80000'],\n       ['26', '52000'],\n       ['20', '86000'],\n       ['32', '18000'],\n       ['18', '82000'],\n       ['29', '80000'],\n       ['47', '25000'],\n       ['45', '26000'],\n       ['46', '28000'],\n       ['48', '29000'],\n       ['45', '22000'],\n       ['47', '49000'],\n       ['48', '41000'],\n       ['45', '22000'],\n       ['46', '23000'],\n       ['47', '20000'],\n       ['49', '28000'],\n       ['47', '30000'],\n       ['29', '43000'],\n       ['31', '18000'],\n       ['31', '74000'],\n       ['27', '137000'],\n       ['21', '16000'],\n       ['28', '44000'],\n       ['27', '90000'],\n       ['35', '27000'],\n       ['33', '28000'],\n       ['30', '49000'],\n       ['26', '72000'],\n       ['27', '31000'],\n       ['27', '17000'],\n       ['33', '51000'],\n       ['35', '108000'],\n       ['30', '15000'],\n       ['28', '84000'],\n       ['23', '20000'],\n       ['25', '79000'],\n       ['27', '54000'],\n       ['30', '135000'],\n       ['31', '89000'],\n       ['24', '32000'],\n       ['18', '44000'],\n       ['29', '83000'],\n       ['35', '23000'],\n       ['27', '58000'],\n       ['24', '55000'],\n       ['23', '48000'],\n       ['28', '79000'],\n       ['22', '18000'],\n       ['32', '117000'],\n       ['27', '20000'],\n       ['25', '87000'],\n       ['23', '66000'],\n       ['32', '120000'],\n       ['59', '83000'],\n       ['24', '58000'],\n       ['24', '19000'],\n       ['23', '82000'],\n       ['22', '63000'],\n       ['31', '68000'],\n       ['25', '80000'],\n       ['24', '27000'],\n       ['20', '23000'],\n       ['33', '113000'],\n       ['32', '18000'],\n       ['34', '112000'],\n       ['18', '52000'],\n       ['22', '27000'],\n       ['28', '87000'],\n       ['26', '17000'],\n       ['30', '80000'],\n       ['39', '42000'],\n       ['20', '49000'],\n       ['35', '88000'],\n       ['30', '62000'],\n       ['31', '118000'],\n       ['24', '55000'],\n       ['28', '85000'],\n       ['26', '81000'],\n       ['35', '50000'],\n       ['22', '81000'],\n       ['30', '116000'],\n       ['26', '15000'],\n       ['29', '28000'],\n       ['29', '83000'],\n       ['35', '44000'],\n       ['35', '25000'],\n       ['28', '123000'],\n       ['35', '73000'],\n       ['28', '37000'],\n       ['27', '88000'],\n       ['28', '59000'],\n       ['32', '86000'],\n       ['33', '149000'],\n       ['19', '21000'],\n       ['21', '72000'],\n       ['26', '35000'],\n       ['27', '89000'],\n       ['26', '86000'],\n       ['38', '80000'],\n       ['39', '71000'],\n       ['37', '71000'],\n       ['38', '61000'],\n       ['37', '55000'],\n       ['42', '80000'],\n       ['40', '57000'],\n       ['35', '75000'],\n       ['36', '52000'],\n       ['40', '59000'],\n       ['41', '59000'],\n       ['36', '75000'],\n       ['37', '72000'],\n       ['40', '75000'],\n       ['35', '53000'],\n       ['41', '51000'],\n       ['39', '61000'],\n       ['42', '65000'],\n       ['26', '32000'],\n       ['30', '17000'],\n       ['26', '84000'],\n       ['31', '58000'],\n       ['33', '31000'],\n       ['30', '87000'],\n       ['21', '68000'],\n       ['28', '55000'],\n       ['23', '63000'],\n       ['20', '82000'],\n       ['30', '107000'],\n       ['28', '59000'],\n       ['19', '25000'],\n       ['19', '85000'],\n       ['18', '68000'],\n       ['35', '59000'],\n       ['30', '89000'],\n       ['34', '25000'],\n       ['24', '89000'],\n       ['27', '96000'],\n       ['41', '30000'],\n       ['29', '61000'],\n       ['20', '74000'],\n       ['26', '15000'],\n       ['41', '45000'],\n       ['31', '76000'],\n       ['36', '50000'],\n       ['40', '47000'],\n       ['31', '15000'],\n       ['46', '59000'],\n       ['29', '75000'],\n       ['26', '30000'],\n       ['32', '135000'],\n       ['32', '100000'],\n       ['25', '90000'],\n       ['37', '33000'],\n       ['35', '38000'],\n       ['33', '69000'],\n       ['18', '86000'],\n       ['22', '55000'],\n       ['35', '71000'],\n       ['29', '148000'],\n       ['29', '47000'],\n       ['21', '88000'],\n       ['34', '115000'],\n       ['26', '118000'],\n       ['34', '43000'],\n       ['34', '72000'],\n       ['23', '28000'],\n       ['35', '47000'],\n       ['25', '22000'],\n       ['24', '23000'],\n       ['31', '34000'],\n       ['26', '16000'],\n       ['31', '71000'],\n       ['32', '117000'],\n       ['33', '43000'],\n       ['33', '60000'],\n       ['31', '66000'],\n       ['20', '82000'],\n       ['33', '41000'],\n       ['35', '72000'],\n       ['28', '32000'],\n       ['24', '84000'],\n       ['19', '26000'],\n       ['29', '43000'],\n       ['19', '70000'],\n       ['28', '89000'],\n       ['34', '43000'],\n       ['30', '79000'],\n       ['20', '36000'],\n       ['26', '80000'],\n       ['35', '22000'],\n       ['35', '39000'],\n       ['49', '74000'],\n       ['39', '134000'],\n       ['41', '71000'],\n       ['58', '101000'],\n       ['47', '47000'],\n       ['55', '130000'],\n       ['52', '114000'],\n       ['40', '142000'],\n       ['46', '22000'],\n       ['48', '96000'],\n       ['52', '150000'],\n       ['59', '42000'],\n       ['35', '58000'],\n       ['47', '43000'],\n       ['60', '108000'],\n       ['49', '65000'],\n       ['40', '78000'],\n       ['46', '96000'],\n       ['59', '143000'],\n       ['41', '80000'],\n       ['35', '91000'],\n       ['37', '144000'],\n       ['60', '102000'],\n       ['35', '60000'],\n       ['37', '53000'],\n       ['36', '126000'],\n       ['56', '133000'],\n       ['40', '72000'],\n       ['42', '80000'],\n       ['35', '147000'],\n       ['39', '42000'],\n       ['40', '107000'],\n       ['49', '86000'],\n       ['38', '112000'],\n       ['46', '79000'],\n       ['40', '57000'],\n       ['37', '80000'],\n       ['46', '82000'],\n       ['53', '143000'],\n       ['42', '149000'],\n       ['38', '59000'],\n       ['50', '88000'],\n       ['56', '104000'],\n       ['41', '72000'],\n       ['51', '146000'],\n       ['35', '50000'],\n       ['57', '122000'],\n       ['41', '52000'],\n       ['35', '97000'],\n       ['44', '39000'],\n       ['37', '52000'],\n       ['48', '134000'],\n       ['37', '146000'],\n       ['50', '44000'],\n       ['52', '90000'],\n       ['41', '72000'],\n       ['40', '57000'],\n       ['58', '95000'],\n       ['45', '131000'],\n       ['35', '77000'],\n       ['36', '144000'],\n       ['55', '125000'],\n       ['35', '72000'],\n       ['48', '90000'],\n       ['42', '108000'],\n       ['40', '75000'],\n       ['37', '74000'],\n       ['47', '144000'],\n       ['40', '61000'],\n       ['43', '133000'],\n       ['59', '76000'],\n       ['60', '42000'],\n       ['39', '106000'],\n       ['57', '26000'],\n       ['57', '74000'],\n       ['38', '71000'],\n       ['49', '88000'],\n       ['52', '38000'],\n       ['50', '36000'],\n       ['59', '88000'],\n       ['35', '61000'],\n       ['37', '70000'],\n       ['52', '21000'],\n       ['48', '141000'],\n       ['37', '93000'],\n       ['37', '62000'],\n       ['48', '138000'],\n       ['41', '79000'],\n       ['37', '78000'],\n       ['39', '134000'],\n       ['49', '89000'],\n       ['55', '39000'],\n       ['37', '77000'],\n       ['35', '57000'],\n       ['36', '63000'],\n       ['42', '73000'],\n       ['43', '112000'],\n       ['45', '79000'],\n       ['46', '117000'],\n       ['58', '38000'],\n       ['48', '74000'],\n       ['37', '137000'],\n       ['37', '79000'],\n       ['40', '60000'],\n       ['42', '54000'],\n       ['51', '134000'],\n       ['47', '113000'],\n       ['36', '125000'],\n       ['38', '50000'],\n       ['42', '70000'],\n       ['39', '96000'],\n       ['38', '50000'],\n       ['49', '141000'],\n       ['39', '79000'],\n       ['39', '75000'],\n       ['54', '104000'],\n       ['35', '55000'],\n       ['45', '32000'],\n       ['36', '60000'],\n       ['52', '138000'],\n       ['53', '82000'],\n       ['41', '52000'],\n       ['48', '30000'],\n       ['48', '131000'],\n       ['41', '60000'],\n       ['41', '72000'],\n       ['42', '75000'],\n       ['36', '118000'],\n       ['47', '107000'],\n       ['38', '51000'],\n       ['48', '119000'],\n       ['42', '65000'],\n       ['40', '65000'],\n       ['57', '60000'],\n       ['36', '54000'],\n       ['58', '144000'],\n       ['35', '79000'],\n       ['38', '55000'],\n       ['39', '122000'],\n       ['53', '104000'],\n       ['35', '75000'],\n       ['38', '65000'],\n       ['47', '51000'],\n       ['47', '105000'],\n       ['41', '63000'],\n       ['53', '72000'],\n       ['54', '108000'],\n       ['39', '77000'],\n       ['38', '61000'],\n       ['38', '113000'],\n       ['37', '75000'],\n       ['42', '90000'],\n       ['37', '57000'],\n       ['36', '99000'],\n       ['60', '34000'],\n       ['54', '70000'],\n       ['41', '72000'],\n       ['40', '71000'],\n       ['42', '54000'],\n       ['43', '129000'],\n       ['53', '34000'],\n       ['47', '50000'],\n       ['42', '79000'],\n       ['42', '104000'],\n       ['59', '29000'],\n       ['58', '47000'],\n       ['46', '88000'],\n       ['38', '71000'],\n       ['54', '26000'],\n       ['60', '46000'],\n       ['60', '83000'],\n       ['39', '73000'],\n       ['59', '130000'],\n       ['37', '80000'],\n       ['46', '32000'],\n       ['46', '74000'],\n       ['42', '53000'],\n       ['41', '87000'],\n       ['58', '23000'],\n       ['42', '64000'],\n       ['48', '33000'],\n       ['44', '139000'],\n       ['49', '28000'],\n       ['57', '33000'],\n       ['56', '60000'],\n       ['49', '39000'],\n       ['39', '71000'],\n       ['47', '34000'],\n       ['48', '35000'],\n       ['48', '33000'],\n       ['47', '23000'],\n       ['45', '45000'],\n       ['60', '42000'],\n       ['39', '59000'],\n       ['46', '41000'],\n       ['51', '23000'],\n       ['50', '20000'],\n       ['36', '33000'],\n       ['49', '36000']], dtype=object)"
     ]
    }
   ],
   "source": [
    "X=df.iloc[:,2:4].values\n",
    "X"
   ]
  },
  {
   "cell_type": "code",
   "execution_count": 0,
   "metadata": {
    "application/vnd.databricks.v1+cell": {
     "cellMetadata": {
      "byteLimit": 2048000,
      "rowLimit": 10000
     },
     "inputWidgets": {},
     "nuid": "700a29b8-420b-4c15-855a-db55bcb6f6d5",
     "showTitle": false,
     "tableResultSettingsMap": {},
     "title": ""
    }
   },
   "outputs": [
    {
     "output_type": "stream",
     "name": "stdout",
     "output_type": "stream",
     "text": [
      "Out[6]: array(['0', '0', '0', '0', '0', '0', '0', '1', '0', '0', '0', '0', '0',\n       '0', '0', '0', '1', '1', '1', '1', '1', '1', '1', '1', '1', '1',\n       '1', '1', '0', '0', '0', '1', '0', '0', '0', '0', '0', '0', '0',\n       '0', '0', '0', '0', '0', '0', '0', '0', '0', '1', '0', '0', '0',\n       '0', '0', '0', '0', '0', '0', '0', '0', '0', '0', '0', '1', '0',\n       '0', '0', '0', '0', '0', '0', '0', '0', '0', '0', '1', '0', '0',\n       '0', '0', '0', '0', '0', '0', '0', '1', '0', '0', '0', '0', '0',\n       '0', '0', '0', '0', '0', '0', '1', '0', '0', '0', '0', '0', '1',\n       '0', '0', '0', '0', '0', '0', '0', '0', '0', '0', '0', '0', '0',\n       '0', '0', '0', '0', '0', '0', '0', '0', '0', '0', '0', '0', '0',\n       '0', '0', '0', '0', '0', '0', '0', '1', '0', '0', '0', '0', '0',\n       '0', '0', '0', '1', '0', '0', '0', '0', '0', '0', '0', '0', '0',\n       '0', '0', '0', '1', '1', '0', '0', '0', '0', '0', '0', '0', '1',\n       '0', '0', '0', '0', '0', '0', '0', '0', '0', '0', '0', '0', '0',\n       '1', '0', '0', '0', '0', '0', '0', '0', '0', '0', '0', '0', '0',\n       '0', '0', '0', '0', '0', '0', '0', '1', '0', '1', '0', '1', '0',\n       '1', '0', '1', '1', '0', '0', '0', '1', '0', '0', '0', '1', '0',\n       '1', '1', '1', '0', '0', '1', '1', '0', '1', '1', '0', '1', '1',\n       '0', '1', '0', '0', '0', '1', '1', '0', '1', '1', '0', '1', '0',\n       '1', '0', '1', '0', '0', '1', '1', '0', '1', '0', '0', '1', '1',\n       '0', '1', '1', '0', '1', '1', '0', '0', '1', '0', '0', '1', '1',\n       '1', '1', '1', '0', '1', '1', '1', '1', '0', '1', '1', '0', '1',\n       '0', '1', '0', '1', '1', '1', '1', '0', '0', '0', '1', '1', '0',\n       '1', '1', '1', '1', '1', '0', '0', '0', '1', '1', '0', '0', '1',\n       '0', '1', '0', '1', '1', '0', '1', '0', '1', '1', '0', '1', '1',\n       '0', '0', '0', '1', '1', '0', '1', '0', '0', '1', '0', '1', '0',\n       '0', '1', '1', '0', '0', '1', '1', '0', '1', '1', '0', '0', '1',\n       '0', '1', '0', '1', '1', '1', '0', '1', '0', '1', '1', '1', '0',\n       '1', '1', '1', '1', '0', '1', '1', '1', '0', '1', '0', '1', '0',\n       '0', '1', '1', '0', '1', '1', '1', '1', '1', '1', '0', '1', '1',\n       '1', '1', '1', '1', '0', '1', '1', '1', '0', '1'], dtype=object)"
     ]
    }
   ],
   "source": [
    "y=df.iloc[:,-1].values\n",
    "y"
   ]
  },
  {
   "cell_type": "code",
   "execution_count": 0,
   "metadata": {
    "application/vnd.databricks.v1+cell": {
     "cellMetadata": {
      "byteLimit": 2048000,
      "rowLimit": 10000
     },
     "inputWidgets": {},
     "nuid": "a1cd93b3-615a-4db4-8f6c-3dd7d15d5f3b",
     "showTitle": false,
     "tableResultSettingsMap": {},
     "title": ""
    }
   },
   "outputs": [],
   "source": [
    "from sklearn.preprocessing import StandardScaler\n",
    "sc=StandardScaler()\n",
    "X=sc.fit_transform(X)"
   ]
  },
  {
   "cell_type": "code",
   "execution_count": 0,
   "metadata": {
    "application/vnd.databricks.v1+cell": {
     "cellMetadata": {
      "byteLimit": 2048000,
      "rowLimit": 10000
     },
     "inputWidgets": {},
     "nuid": "729f5121-2d9b-4b28-8d56-0e8895896558",
     "showTitle": false,
     "tableResultSettingsMap": {},
     "title": ""
    }
   },
   "outputs": [],
   "source": [
    "from sklearn.model_selection import train_test_split\n",
    "X_train,X_test,y_train,y_test=train_test_split(X,y,test_size=0.25,random_state=0)\n"
   ]
  },
  {
   "cell_type": "code",
   "execution_count": 0,
   "metadata": {
    "application/vnd.databricks.v1+cell": {
     "cellMetadata": {
      "byteLimit": 2048000,
      "rowLimit": 10000
     },
     "inputWidgets": {},
     "nuid": "9992bf87-7f18-4f60-b102-ee121e3e7860",
     "showTitle": false,
     "tableResultSettingsMap": {},
     "title": ""
    }
   },
   "outputs": [
    {
     "output_type": "stream",
     "name": "stdout",
     "output_type": "stream",
     "text": [
      "Out[9]: KNeighborsClassifier()"
     ]
    }
   ],
   "source": [
    "from sklearn.neighbors import KNeighborsClassifier\n",
    "model=KNeighborsClassifier(n_neighbors=5)\n",
    "model.fit(X_train,y_train)"
   ]
  },
  {
   "cell_type": "code",
   "execution_count": 0,
   "metadata": {
    "application/vnd.databricks.v1+cell": {
     "cellMetadata": {
      "byteLimit": 2048000,
      "rowLimit": 10000
     },
     "inputWidgets": {},
     "nuid": "c18cdc29-c6e3-4c07-9e5f-bd7b9032b14b",
     "showTitle": false,
     "tableResultSettingsMap": {},
     "title": ""
    }
   },
   "outputs": [],
   "source": [
    "y_pred=model.predict(X_test)"
   ]
  },
  {
   "cell_type": "code",
   "execution_count": 0,
   "metadata": {
    "application/vnd.databricks.v1+cell": {
     "cellMetadata": {
      "byteLimit": 2048000,
      "rowLimit": 10000
     },
     "inputWidgets": {},
     "nuid": "0c02ab98-a41f-49cf-9577-d0835d8f2008",
     "showTitle": false,
     "tableResultSettingsMap": {},
     "title": ""
    }
   },
   "outputs": [
    {
     "output_type": "stream",
     "name": "stdout",
     "output_type": "stream",
     "text": [
      "Out[11]: array(['0', '0', '0', '0', '0', '0', '0', '1', '0', '0', '0', '0', '0',\n       '0', '0', '0', '0', '0', '1', '0', '0', '1', '0', '1', '0', '1',\n       '0', '0', '0', '0', '0', '1', '1', '0', '0', '0', '0', '0', '0',\n       '1', '0', '0', '0', '0', '1', '0', '0', '1', '0', '1', '1', '0',\n       '0', '0', '1', '1', '0', '0', '1', '0', '0', '1', '0', '1', '0',\n       '1', '0', '0', '0', '0', '1', '0', '0', '1', '0', '0', '0', '0',\n       '1', '1', '1', '0', '0', '0', '1', '1', '0', '1', '1', '0', '0',\n       '1', '0', '0', '0', '1', '0', '1', '1', '1'], dtype=object)"
     ]
    }
   ],
   "source": [
    "y_test"
   ]
  },
  {
   "cell_type": "code",
   "execution_count": 0,
   "metadata": {
    "application/vnd.databricks.v1+cell": {
     "cellMetadata": {
      "byteLimit": 2048000,
      "rowLimit": 10000
     },
     "inputWidgets": {},
     "nuid": "42de31e1-b529-41e2-b29a-2632e5978fca",
     "showTitle": false,
     "tableResultSettingsMap": {},
     "title": ""
    }
   },
   "outputs": [
    {
     "output_type": "stream",
     "name": "stdout",
     "output_type": "stream",
     "text": [
      "Out[12]: array(['0', '0', '0', '0', '0', '0', '0', '1', '0', '1', '0', '0', '0',\n       '0', '0', '1', '0', '0', '1', '0', '0', '1', '0', '1', '0', '1',\n       '0', '0', '0', '0', '0', '0', '1', '0', '0', '0', '0', '0', '0',\n       '1', '0', '0', '0', '0', '1', '0', '0', '1', '0', '1', '1', '0',\n       '0', '1', '1', '1', '0', '0', '1', '0', '0', '1', '0', '1', '0',\n       '1', '0', '0', '0', '0', '1', '0', '0', '1', '0', '0', '0', '0',\n       '1', '1', '1', '1', '0', '0', '1', '0', '0', '1', '1', '0', '0',\n       '1', '0', '0', '0', '0', '0', '1', '1', '1'], dtype=object)"
     ]
    }
   ],
   "source": [
    "y_pred"
   ]
  },
  {
   "cell_type": "code",
   "execution_count": 0,
   "metadata": {
    "application/vnd.databricks.v1+cell": {
     "cellMetadata": {
      "byteLimit": 2048000,
      "rowLimit": 10000
     },
     "inputWidgets": {},
     "nuid": "9985fdd2-7d21-45f6-8349-97f784faea6a",
     "showTitle": false,
     "tableResultSettingsMap": {},
     "title": ""
    }
   },
   "outputs": [],
   "source": [
    "from sklearn.metrics import confusion_matrix\n",
    "cm=confusion_matrix(y_test,y_pred)"
   ]
  },
  {
   "cell_type": "code",
   "execution_count": 0,
   "metadata": {
    "application/vnd.databricks.v1+cell": {
     "cellMetadata": {
      "byteLimit": 2048000,
      "rowLimit": 10000
     },
     "inputWidgets": {},
     "nuid": "8a713b3d-cf6c-40a7-9f90-50ae03000ae5",
     "showTitle": false,
     "tableResultSettingsMap": {},
     "title": ""
    }
   },
   "outputs": [
    {
     "output_type": "stream",
     "name": "stdout",
     "output_type": "stream",
     "text": [
      "Out[14]: array([[64,  4],\n       [ 3, 29]])"
     ]
    }
   ],
   "source": [
    "cm"
   ]
  },
  {
   "cell_type": "code",
   "execution_count": 0,
   "metadata": {
    "application/vnd.databricks.v1+cell": {
     "cellMetadata": {
      "byteLimit": 2048000,
      "rowLimit": 10000
     },
     "inputWidgets": {},
     "nuid": "434c2e6d-9134-4ebb-ab62-51540362fffa",
     "showTitle": false,
     "tableResultSettingsMap": {},
     "title": ""
    }
   },
   "outputs": [
    {
     "output_type": "display_data",
     "data": {
      "image/png": "[encoded data removed]"
     },
     "metadata": {
      "application/vnd.databricks.v1+output": {
       "addedWidgets": {},
       "arguments": {},
       "data": "data:image/png;base64,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\n",
       "datasetInfos": [],
       "metadata": {},
       "removedWidgets": [],
       "type": "image"
      }
     },
     "output_type": "display_data"
    }
   ],
   "source": [
    "import matplotlib.pyplot as plt\n",
    "from sklearn.metrics import ConfusionMatrixDisplay \n",
    "# Plot the confusion matrix\n",
    "disp = ConfusionMatrixDisplay(confusion_matrix=cm, display_labels=model.classes_)\n",
    "disp.plot(cmap=plt.cm.Blues)\n",
    "plt.title(\"Confusion Matrix\")\n",
    "plt.show()\n"
   ]
  },
  {
   "cell_type": "code",
   "execution_count": 0,
   "metadata": {
    "application/vnd.databricks.v1+cell": {
     "cellMetadata": {
      "byteLimit": 2048000,
      "rowLimit": 10000
     },
     "inputWidgets": {},
     "nuid": "9b3e58ee-1e2c-4fb8-af4b-0c00e0e1e8fb",
     "showTitle": false,
     "tableResultSettingsMap": {},
     "title": ""
    }
   },
   "outputs": [
    {
     "output_type": "stream",
     "name": "stdout",
     "output_type": "stream",
     "text": [
      "Out[17]: 0.93"
     ]
    }
   ],
   "source": [
    "model.score(X_test,y_test)"
   ]
  },
  {
   "cell_type": "code",
   "execution_count": 0,
   "metadata": {
    "application/vnd.databricks.v1+cell": {
     "cellMetadata": {},
     "inputWidgets": {},
     "nuid": "1af591d3-fe2c-467d-a337-e344ba68492c",
     "showTitle": false,
     "tableResultSettingsMap": {},
     "title": ""
    }
   },
   "outputs": [],
   "source": []
  }
 ],
 "metadata": {
  "application/vnd.databricks.v1+notebook": {
   "computePreferences": null,
   "dashboards": [],
   "environmentMetadata": {
    "base_environment": "",
    "environment_version": "1"
   },
   "inputWidgetPreferences": null,
   "language": "python",
   "notebookMetadata": {
    "pythonIndentUnit": 4
   },
   "notebookName": "7. KNN",
   "widgets": {}
  }
 },
 "nbformat": 4,
 "nbformat_minor": 0
}