{
 "cells": [
  {
   "cell_type": "code",
   "execution_count": 0,
   "metadata": {
    "application/vnd.databricks.v1+cell": {
     "cellMetadata": {
      "byteLimit": 2048000,
      "rowLimit": 10000
     },
     "inputWidgets": {},
     "nuid": "7aefc1f6-7ee8-483a-b35b-6106f50e9305",
     "showTitle": false,
     "tableResultSettingsMap": {},
     "title": ""
    }
   },
   "outputs": [],
   "source": [
    "df=spark.read.csv('/FileStore/tables/Social_Network_Ads.csv',header=True)"
   ]
  },
  {
   "cell_type": "code",
   "execution_count": 0,
   "metadata": {
    "application/vnd.databricks.v1+cell": {
     "cellMetadata": {
      "byteLimit": 2048000,
      "rowLimit": 10000
     },
     "inputWidgets": {},
     "nuid": "d908f69f-91f2-4cc6-b523-71b2eba6a982",
     "showTitle": false,
     "tableResultSettingsMap": {},
     "title": ""
    }
   },
   "outputs": [
    {
     "output_type": "display_data",
     "data": {
      "text/html": [
       "<div>\n",
       "<style scoped>\n",
       "    .dataframe tbody tr th:only-of-type {\n",
       "        vertical-align: middle;\n",
       "    }\n",
       "\n",
       "    .dataframe tbody tr th {\n",
       "        vertical-align: top;\n",
       "    }\n",
       "\n",
       "    .dataframe thead th {\n",
       "        text-align: right;\n",
       "    }\n",
       "</style>\n",
       "<table border=\"1\" class=\"dataframe\">\n",
       "  <thead>\n",
       "    <tr style=\"text-align: right;\">\n",
       "      <th></th>\n",
       "      <th>User ID</th>\n",
       "      <th>Gender</th>\n",
       "      <th>Age</th>\n",
       "      <th>EstimatedSalary</th>\n",
       "      <th>Purchased</th>\n",
       "    </tr>\n",
       "  </thead>\n",
       "  <tbody>\n",
       "    <tr>\n",
       "      <th>0</th>\n",
       "      <td>15624510</td>\n",
       "      <td>Male</td>\n",
       "      <td>19</td>\n",
       "      <td>19000</td>\n",
       "      <td>0</td>\n",
       "    </tr>\n",
       "    <tr>\n",
       "      <th>1</th>\n",
       "      <td>15810944</td>\n",
       "      <td>Male</td>\n",
       "      <td>35</td>\n",
       "      <td>20000</td>\n",
       "      <td>0</td>\n",
       "    </tr>\n",
       "    <tr>\n",
       "      <th>2</th>\n",
       "      <td>15668575</td>\n",
       "      <td>Female</td>\n",
       "      <td>26</td>\n",
       "      <td>43000</td>\n",
       "      <td>0</td>\n",
       "    </tr>\n",
       "    <tr>\n",
       "      <th>3</th>\n",
       "      <td>15603246</td>\n",
       "      <td>Female</td>\n",
       "      <td>27</td>\n",
       "      <td>57000</td>\n",
       "      <td>0</td>\n",
       "    </tr>\n",
       "    <tr>\n",
       "      <th>4</th>\n",
       "      <td>15804002</td>\n",
       "      <td>Male</td>\n",
       "      <td>19</td>\n",
       "      <td>76000</td>\n",
       "      <td>0</td>\n",
       "    </tr>\n",
       "    <tr>\n",
       "      <th>...</th>\n",
       "      <td>...</td>\n",
       "      <td>...</td>\n",
       "      <td>...</td>\n",
       "      <td>...</td>\n",
       "      <td>...</td>\n",
       "    </tr>\n",
       "    <tr>\n",
       "      <th>395</th>\n",
       "      <td>15691863</td>\n",
       "      <td>Female</td>\n",
       "      <td>46</td>\n",
       "      <td>41000</td>\n",
       "      <td>1</td>\n",
       "    </tr>\n",
       "    <tr>\n",
       "      <th>396</th>\n",
       "      <td>15706071</td>\n",
       "      <td>Male</td>\n",
       "      <td>51</td>\n",
       "      <td>23000</td>\n",
       "      <td>1</td>\n",
       "    </tr>\n",
       "    <tr>\n",
       "      <th>397</th>\n",
       "      <td>15654296</td>\n",
       "      <td>Female</td>\n",
       "      <td>50</td>\n",
       "      <td>20000</td>\n",
       "      <td>1</td>\n",
       "    </tr>\n",
       "    <tr>\n",
       "      <th>398</th>\n",
       "      <td>15755018</td>\n",
       "      <td>Male</td>\n",
       "      <td>36</td>\n",
       "      <td>33000</td>\n",
       "      <td>0</td>\n",
       "    </tr>\n",
       "    <tr>\n",
       "      <th>399</th>\n",
       "      <td>15594041</td>\n",
       "      <td>Female</td>\n",
       "      <td>49</td>\n",
       "      <td>36000</td>\n",
       "      <td>1</td>\n",
       "    </tr>\n",
       "  </tbody>\n",
       "</table>\n",
       "<p>400 rows × 5 columns</p>\n",
       "</div>"
      ]
     },
     "metadata": {
      "application/vnd.databricks.v1+output": {
       "addedWidgets": {},
       "arguments": {},
       "data": "<div>\n<style scoped>\n    .dataframe tbody tr th:only-of-type {\n        vertical-align: middle;\n    }\n\n    .dataframe tbody tr th {\n        vertical-align: top;\n    }\n\n    .dataframe thead th {\n        text-align: right;\n    }\n</style>\n<table border=\"1\" class=\"dataframe\">\n  <thead>\n    <tr style=\"text-align: right;\">\n      <th></th>\n      <th>User ID</th>\n      <th>Gender</th>\n      <th>Age</th>\n      <th>EstimatedSalary</th>\n      <th>Purchased</th>\n    </tr>\n  </thead>\n  <tbody>\n    <tr>\n      <th>0</th>\n      <td>15624510</td>\n      <td>Male</td>\n      <td>19</td>\n      <td>19000</td>\n      <td>0</td>\n    </tr>\n    <tr>\n      <th>1</th>\n      <td>15810944</td>\n      <td>Male</td>\n      <td>35</td>\n      <td>20000</td>\n      <td>0</td>\n    </tr>\n    <tr>\n      <th>2</th>\n      <td>15668575</td>\n      <td>Female</td>\n      <td>26</td>\n      <td>43000</td>\n      <td>0</td>\n    </tr>\n    <tr>\n      <th>3</th>\n      <td>15603246</td>\n      <td>Female</td>\n      <td>27</td>\n      <td>57000</td>\n      <td>0</td>\n    </tr>\n    <tr>\n      <th>4</th>\n      <td>15804002</td>\n      <td>Male</td>\n      <td>19</td>\n      <td>76000</td>\n      <td>0</td>\n    </tr>\n    <tr>\n      <th>...</th>\n      <td>...</td>\n      <td>...</td>\n      <td>...</td>\n      <td>...</td>\n      <td>...</td>\n    </tr>\n    <tr>\n      <th>395</th>\n      <td>15691863</td>\n      <td>Female</td>\n      <td>46</td>\n      <td>41000</td>\n      <td>1</td>\n    </tr>\n    <tr>\n      <th>396</th>\n      <td>15706071</td>\n      <td>Male</td>\n      <td>51</td>\n      <td>23000</td>\n      <td>1</td>\n    </tr>\n    <tr>\n      <th>397</th>\n      <td>15654296</td>\n      <td>Female</td>\n      <td>50</td>\n      <td>20000</td>\n      <td>1</td>\n    </tr>\n    <tr>\n      <th>398</th>\n      <td>15755018</td>\n      <td>Male</td>\n      <td>36</td>\n      <td>33000</td>\n      <td>0</td>\n    </tr>\n    <tr>\n      <th>399</th>\n      <td>15594041</td>\n      <td>Female</td>\n      <td>49</td>\n      <td>36000</td>\n      <td>1</td>\n    </tr>\n  </tbody>\n</table>\n<p>400 rows × 5 columns</p>\n</div>",
       "datasetInfos": [],
       "metadata": {},
       "removedWidgets": [],
       "textData": null,
       "type": "htmlSandbox"
      }
     },
     "output_type": "display_data"
    }
   ],
   "source": [
    "df=df.toPandas()\n",
    "df"
   ]
  },
  {
   "cell_type": "code",
   "execution_count": 0,
   "metadata": {
    "application/vnd.databricks.v1+cell": {
     "cellMetadata": {
      "byteLimit": 2048000,
      "rowLimit": 10000
     },
     "inputWidgets": {},
     "nuid": "dd719040-2659-4d18-b815-17c84f7e7ddd",
     "showTitle": false,
     "tableResultSettingsMap": {},
     "title": ""
    }
   },
   "outputs": [
    {
     "output_type": "stream",
     "name": "stdout",
     "output_type": "stream",
     "text": [
      "Out[18]: User ID            0\nGender             0\nAge                0\nEstimatedSalary    0\nPurchased          0\ndtype: int64"
     ]
    }
   ],
   "source": [
    "df.isnull().sum()\n"
   ]
  },
  {
   "cell_type": "code",
   "execution_count": 0,
   "metadata": {
    "application/vnd.databricks.v1+cell": {
     "cellMetadata": {
      "byteLimit": 2048000,
      "rowLimit": 10000
     },
     "inputWidgets": {},
     "nuid": "9dd814b3-3096-4fff-8192-21de0ec04660",
     "showTitle": false,
     "tableResultSettingsMap": {},
     "title": ""
    }
   },
   "outputs": [
    {
     "output_type": "stream",
     "name": "stdout",
     "output_type": "stream",
     "text": [
      "Out[19]: array([['19', '19000'],\n       ['35', '20000'],\n       ['26', '43000'],\n       ['27', '57000'],\n       ['19', '76000'],\n       ['27', '58000'],\n       ['27', '84000'],\n       ['32', '150000'],\n       ['25', '33000'],\n       ['35', '65000'],\n       ['26', '80000'],\n       ['26', '52000'],\n       ['20', '86000'],\n       ['32', '18000'],\n       ['18', '82000'],\n       ['29', '80000'],\n       ['47', '25000'],\n       ['45', '26000'],\n       ['46', '28000'],\n       ['48', '29000'],\n       ['45', '22000'],\n       ['47', '49000'],\n       ['48', '41000'],\n       ['45', '22000'],\n       ['46', '23000'],\n       ['47', '20000'],\n       ['49', '28000'],\n       ['47', '30000'],\n       ['29', '43000'],\n       ['31', '18000'],\n       ['31', '74000'],\n       ['27', '137000'],\n       ['21', '16000'],\n       ['28', '44000'],\n       ['27', '90000'],\n       ['35', '27000'],\n       ['33', '28000'],\n       ['30', '49000'],\n       ['26', '72000'],\n       ['27', '31000'],\n       ['27', '17000'],\n       ['33', '51000'],\n       ['35', '108000'],\n       ['30', '15000'],\n       ['28', '84000'],\n       ['23', '20000'],\n       ['25', '79000'],\n       ['27', '54000'],\n       ['30', '135000'],\n       ['31', '89000'],\n       ['24', '32000'],\n       ['18', '44000'],\n       ['29', '83000'],\n       ['35', '23000'],\n       ['27', '58000'],\n       ['24', '55000'],\n       ['23', '48000'],\n       ['28', '79000'],\n       ['22', '18000'],\n       ['32', '117000'],\n       ['27', '20000'],\n       ['25', '87000'],\n       ['23', '66000'],\n       ['32', '120000'],\n       ['59', '83000'],\n       ['24', '58000'],\n       ['24', '19000'],\n       ['23', '82000'],\n       ['22', '63000'],\n       ['31', '68000'],\n       ['25', '80000'],\n       ['24', '27000'],\n       ['20', '23000'],\n       ['33', '113000'],\n       ['32', '18000'],\n       ['34', '112000'],\n       ['18', '52000'],\n       ['22', '27000'],\n       ['28', '87000'],\n       ['26', '17000'],\n       ['30', '80000'],\n       ['39', '42000'],\n       ['20', '49000'],\n       ['35', '88000'],\n       ['30', '62000'],\n       ['31', '118000'],\n       ['24', '55000'],\n       ['28', '85000'],\n       ['26', '81000'],\n       ['35', '50000'],\n       ['22', '81000'],\n       ['30', '116000'],\n       ['26', '15000'],\n       ['29', '28000'],\n       ['29', '83000'],\n       ['35', '44000'],\n       ['35', '25000'],\n       ['28', '123000'],\n       ['35', '73000'],\n       ['28', '37000'],\n       ['27', '88000'],\n       ['28', '59000'],\n       ['32', '86000'],\n       ['33', '149000'],\n       ['19', '21000'],\n       ['21', '72000'],\n       ['26', '35000'],\n       ['27', '89000'],\n       ['26', '86000'],\n       ['38', '80000'],\n       ['39', '71000'],\n       ['37', '71000'],\n       ['38', '61000'],\n       ['37', '55000'],\n       ['42', '80000'],\n       ['40', '57000'],\n       ['35', '75000'],\n       ['36', '52000'],\n       ['40', '59000'],\n       ['41', '59000'],\n       ['36', '75000'],\n       ['37', '72000'],\n       ['40', '75000'],\n       ['35', '53000'],\n       ['41', '51000'],\n       ['39', '61000'],\n       ['42', '65000'],\n       ['26', '32000'],\n       ['30', '17000'],\n       ['26', '84000'],\n       ['31', '58000'],\n       ['33', '31000'],\n       ['30', '87000'],\n       ['21', '68000'],\n       ['28', '55000'],\n       ['23', '63000'],\n       ['20', '82000'],\n       ['30', '107000'],\n       ['28', '59000'],\n       ['19', '25000'],\n       ['19', '85000'],\n       ['18', '68000'],\n       ['35', '59000'],\n       ['30', '89000'],\n       ['34', '25000'],\n       ['24', '89000'],\n       ['27', '96000'],\n       ['41', '30000'],\n       ['29', '61000'],\n       ['20', '74000'],\n       ['26', '15000'],\n       ['41', '45000'],\n       ['31', '76000'],\n       ['36', '50000'],\n       ['40', '47000'],\n       ['31', '15000'],\n       ['46', '59000'],\n       ['29', '75000'],\n       ['26', '30000'],\n       ['32', '135000'],\n       ['32', '100000'],\n       ['25', '90000'],\n       ['37', '33000'],\n       ['35', '38000'],\n       ['33', '69000'],\n       ['18', '86000'],\n       ['22', '55000'],\n       ['35', '71000'],\n       ['29', '148000'],\n       ['29', '47000'],\n       ['21', '88000'],\n       ['34', '115000'],\n       ['26', '118000'],\n       ['34', '43000'],\n       ['34', '72000'],\n       ['23', '28000'],\n       ['35', '47000'],\n       ['25', '22000'],\n       ['24', '23000'],\n       ['31', '34000'],\n       ['26', '16000'],\n       ['31', '71000'],\n       ['32', '117000'],\n       ['33', '43000'],\n       ['33', '60000'],\n       ['31', '66000'],\n       ['20', '82000'],\n       ['33', '41000'],\n       ['35', '72000'],\n       ['28', '32000'],\n       ['24', '84000'],\n       ['19', '26000'],\n       ['29', '43000'],\n       ['19', '70000'],\n       ['28', '89000'],\n       ['34', '43000'],\n       ['30', '79000'],\n       ['20', '36000'],\n       ['26', '80000'],\n       ['35', '22000'],\n       ['35', '39000'],\n       ['49', '74000'],\n       ['39', '134000'],\n       ['41', '71000'],\n       ['58', '101000'],\n       ['47', '47000'],\n       ['55', '130000'],\n       ['52', '114000'],\n       ['40', '142000'],\n       ['46', '22000'],\n       ['48', '96000'],\n       ['52', '150000'],\n       ['59', '42000'],\n       ['35', '58000'],\n       ['47', '43000'],\n       ['60', '108000'],\n       ['49', '65000'],\n       ['40', '78000'],\n       ['46', '96000'],\n       ['59', '143000'],\n       ['41', '80000'],\n       ['35', '91000'],\n       ['37', '144000'],\n       ['60', '102000'],\n       ['35', '60000'],\n       ['37', '53000'],\n       ['36', '126000'],\n       ['56', '133000'],\n       ['40', '72000'],\n       ['42', '80000'],\n       ['35', '147000'],\n       ['39', '42000'],\n       ['40', '107000'],\n       ['49', '86000'],\n       ['38', '112000'],\n       ['46', '79000'],\n       ['40', '57000'],\n       ['37', '80000'],\n       ['46', '82000'],\n       ['53', '143000'],\n       ['42', '149000'],\n       ['38', '59000'],\n       ['50', '88000'],\n       ['56', '104000'],\n       ['41', '72000'],\n       ['51', '146000'],\n       ['35', '50000'],\n       ['57', '122000'],\n       ['41', '52000'],\n       ['35', '97000'],\n       ['44', '39000'],\n       ['37', '52000'],\n       ['48', '134000'],\n       ['37', '146000'],\n       ['50', '44000'],\n       ['52', '90000'],\n       ['41', '72000'],\n       ['40', '57000'],\n       ['58', '95000'],\n       ['45', '131000'],\n       ['35', '77000'],\n       ['36', '144000'],\n       ['55', '125000'],\n       ['35', '72000'],\n       ['48', '90000'],\n       ['42', '108000'],\n       ['40', '75000'],\n       ['37', '74000'],\n       ['47', '144000'],\n       ['40', '61000'],\n       ['43', '133000'],\n       ['59', '76000'],\n       ['60', '42000'],\n       ['39', '106000'],\n       ['57', '26000'],\n       ['57', '74000'],\n       ['38', '71000'],\n       ['49', '88000'],\n       ['52', '38000'],\n       ['50', '36000'],\n       ['59', '88000'],\n       ['35', '61000'],\n       ['37', '70000'],\n       ['52', '21000'],\n       ['48', '141000'],\n       ['37', '93000'],\n       ['37', '62000'],\n       ['48', '138000'],\n       ['41', '79000'],\n       ['37', '78000'],\n       ['39', '134000'],\n       ['49', '89000'],\n       ['55', '39000'],\n       ['37', '77000'],\n       ['35', '57000'],\n       ['36', '63000'],\n       ['42', '73000'],\n       ['43', '112000'],\n       ['45', '79000'],\n       ['46', '117000'],\n       ['58', '38000'],\n       ['48', '74000'],\n       ['37', '137000'],\n       ['37', '79000'],\n       ['40', '60000'],\n       ['42', '54000'],\n       ['51', '134000'],\n       ['47', '113000'],\n       ['36', '125000'],\n       ['38', '50000'],\n       ['42', '70000'],\n       ['39', '96000'],\n       ['38', '50000'],\n       ['49', '141000'],\n       ['39', '79000'],\n       ['39', '75000'],\n       ['54', '104000'],\n       ['35', '55000'],\n       ['45', '32000'],\n       ['36', '60000'],\n       ['52', '138000'],\n       ['53', '82000'],\n       ['41', '52000'],\n       ['48', '30000'],\n       ['48', '131000'],\n       ['41', '60000'],\n       ['41', '72000'],\n       ['42', '75000'],\n       ['36', '118000'],\n       ['47', '107000'],\n       ['38', '51000'],\n       ['48', '119000'],\n       ['42', '65000'],\n       ['40', '65000'],\n       ['57', '60000'],\n       ['36', '54000'],\n       ['58', '144000'],\n       ['35', '79000'],\n       ['38', '55000'],\n       ['39', '122000'],\n       ['53', '104000'],\n       ['35', '75000'],\n       ['38', '65000'],\n       ['47', '51000'],\n       ['47', '105000'],\n       ['41', '63000'],\n       ['53', '72000'],\n       ['54', '108000'],\n       ['39', '77000'],\n       ['38', '61000'],\n       ['38', '113000'],\n       ['37', '75000'],\n       ['42', '90000'],\n       ['37', '57000'],\n       ['36', '99000'],\n       ['60', '34000'],\n       ['54', '70000'],\n       ['41', '72000'],\n       ['40', '71000'],\n       ['42', '54000'],\n       ['43', '129000'],\n       ['53', '34000'],\n       ['47', '50000'],\n       ['42', '79000'],\n       ['42', '104000'],\n       ['59', '29000'],\n       ['58', '47000'],\n       ['46', '88000'],\n       ['38', '71000'],\n       ['54', '26000'],\n       ['60', '46000'],\n       ['60', '83000'],\n       ['39', '73000'],\n       ['59', '130000'],\n       ['37', '80000'],\n       ['46', '32000'],\n       ['46', '74000'],\n       ['42', '53000'],\n       ['41', '87000'],\n       ['58', '23000'],\n       ['42', '64000'],\n       ['48', '33000'],\n       ['44', '139000'],\n       ['49', '28000'],\n       ['57', '33000'],\n       ['56', '60000'],\n       ['49', '39000'],\n       ['39', '71000'],\n       ['47', '34000'],\n       ['48', '35000'],\n       ['48', '33000'],\n       ['47', '23000'],\n       ['45', '45000'],\n       ['60', '42000'],\n       ['39', '59000'],\n       ['46', '41000'],\n       ['51', '23000'],\n       ['50', '20000'],\n       ['36', '33000'],\n       ['49', '36000']], dtype=object)"
     ]
    }
   ],
   "source": [
    "X=df.iloc[:,2:4].values\n",
    "X"
   ]
  },
  {
   "cell_type": "code",
   "execution_count": 0,
   "metadata": {
    "application/vnd.databricks.v1+cell": {
     "cellMetadata": {
      "byteLimit": 2048000,
      "rowLimit": 10000
     },
     "inputWidgets": {},
     "nuid": "d124b108-96fb-4f92-8074-2c8d1d061f33",
     "showTitle": false,
     "tableResultSettingsMap": {},
     "title": ""
    }
   },
   "outputs": [
    {
     "output_type": "stream",
     "name": "stdout",
     "output_type": "stream",
     "text": [
      "Out[20]: array(['0', '0', '0', '0', '0', '0', '0', '1', '0', '0', '0', '0', '0',\n       '0', '0', '0', '1', '1', '1', '1', '1', '1', '1', '1', '1', '1',\n       '1', '1', '0', '0', '0', '1', '0', '0', '0', '0', '0', '0', '0',\n       '0', '0', '0', '0', '0', '0', '0', '0', '0', '1', '0', '0', '0',\n       '0', '0', '0', '0', '0', '0', '0', '0', '0', '0', '0', '1', '0',\n       '0', '0', '0', '0', '0', '0', '0', '0', '0', '0', '1', '0', '0',\n       '0', '0', '0', '0', '0', '0', '0', '1', '0', '0', '0', '0', '0',\n       '0', '0', '0', '0', '0', '0', '1', '0', '0', '0', '0', '0', '1',\n       '0', '0', '0', '0', '0', '0', '0', '0', '0', '0', '0', '0', '0',\n       '0', '0', '0', '0', '0', '0', '0', '0', '0', '0', '0', '0', '0',\n       '0', '0', '0', '0', '0', '0', '0', '1', '0', '0', '0', '0', '0',\n       '0', '0', '0', '1', '0', '0', '0', '0', '0', '0', '0', '0', '0',\n       '0', '0', '0', '1', '1', '0', '0', '0', '0', '0', '0', '0', '1',\n       '0', '0', '0', '0', '0', '0', '0', '0', '0', '0', '0', '0', '0',\n       '1', '0', '0', '0', '0', '0', '0', '0', '0', '0', '0', '0', '0',\n       '0', '0', '0', '0', '0', '0', '0', '1', '0', '1', '0', '1', '0',\n       '1', '0', '1', '1', '0', '0', '0', '1', '0', '0', '0', '1', '0',\n       '1', '1', '1', '0', '0', '1', '1', '0', '1', '1', '0', '1', '1',\n       '0', '1', '0', '0', '0', '1', '1', '0', '1', '1', '0', '1', '0',\n       '1', '0', '1', '0', '0', '1', '1', '0', '1', '0', '0', '1', '1',\n       '0', '1', '1', '0', '1', '1', '0', '0', '1', '0', '0', '1', '1',\n       '1', '1', '1', '0', '1', '1', '1', '1', '0', '1', '1', '0', '1',\n       '0', '1', '0', '1', '1', '1', '1', '0', '0', '0', '1', '1', '0',\n       '1', '1', '1', '1', '1', '0', '0', '0', '1', '1', '0', '0', '1',\n       '0', '1', '0', '1', '1', '0', '1', '0', '1', '1', '0', '1', '1',\n       '0', '0', '0', '1', '1', '0', '1', '0', '0', '1', '0', '1', '0',\n       '0', '1', '1', '0', '0', '1', '1', '0', '1', '1', '0', '0', '1',\n       '0', '1', '0', '1', '1', '1', '0', '1', '0', '1', '1', '1', '0',\n       '1', '1', '1', '1', '0', '1', '1', '1', '0', '1', '0', '1', '0',\n       '0', '1', '1', '0', '1', '1', '1', '1', '1', '1', '0', '1', '1',\n       '1', '1', '1', '1', '0', '1', '1', '1', '0', '1'], dtype=object)"
     ]
    }
   ],
   "source": [
    "y=df.iloc[:,-1].values\n",
    "y"
   ]
  },
  {
   "cell_type": "code",
   "execution_count": 0,
   "metadata": {
    "application/vnd.databricks.v1+cell": {
     "cellMetadata": {
      "byteLimit": 2048000,
      "rowLimit": 10000
     },
     "inputWidgets": {},
     "nuid": "0230b853-1c85-4a3e-9ace-2b1fe6250c36",
     "showTitle": false,
     "tableResultSettingsMap": {},
     "title": ""
    }
   },
   "outputs": [],
   "source": [
    "#feature scaling\n",
    "from sklearn.preprocessing import StandardScaler\n",
    "sc=StandardScaler()\n",
    "X=sc.fit_transform(X)"
   ]
  },
  {
   "cell_type": "code",
   "execution_count": 0,
   "metadata": {
    "application/vnd.databricks.v1+cell": {
     "cellMetadata": {
      "byteLimit": 2048000,
      "rowLimit": 10000
     },
     "inputWidgets": {},
     "nuid": "19976f7a-f60b-4f6f-8602-ffb431ffbbb2",
     "showTitle": false,
     "tableResultSettingsMap": {},
     "title": ""
    }
   },
   "outputs": [],
   "source": [
    "from sklearn.model_selection import train_test_split\n",
    "X_train,X_test,y_train,y_test=train_test_split(X,y,test_size=0.25,random_state=0)"
   ]
  },
  {
   "cell_type": "code",
   "execution_count": 0,
   "metadata": {
    "application/vnd.databricks.v1+cell": {
     "cellMetadata": {
      "byteLimit": 2048000,
      "rowLimit": 10000
     },
     "inputWidgets": {},
     "nuid": "3437bad7-524a-491a-ac8a-b72e32341f47",
     "showTitle": false,
     "tableResultSettingsMap": {},
     "title": ""
    }
   },
   "outputs": [
    {
     "output_type": "stream",
     "name": "stdout",
     "output_type": "stream",
     "text": [
      "Out[23]: DecisionTreeClassifier()"
     ]
    }
   ],
   "source": [
    "from sklearn.tree import DecisionTreeClassifier\n",
    "model=DecisionTreeClassifier()\n",
    "model.fit(X_train,y_train)"
   ]
  },
  {
   "cell_type": "code",
   "execution_count": 0,
   "metadata": {
    "application/vnd.databricks.v1+cell": {
     "cellMetadata": {
      "byteLimit": 2048000,
      "rowLimit": 10000
     },
     "inputWidgets": {},
     "nuid": "da6979e9-5aaa-4741-a36e-8eee8c13c429",
     "showTitle": false,
     "tableResultSettingsMap": {},
     "title": ""
    }
   },
   "outputs": [],
   "source": [
    "y_pred=model.predict(X_test)"
   ]
  },
  {
   "cell_type": "code",
   "execution_count": 0,
   "metadata": {
    "application/vnd.databricks.v1+cell": {
     "cellMetadata": {
      "byteLimit": 2048000,
      "rowLimit": 10000
     },
     "inputWidgets": {},
     "nuid": "0d85c230-61ee-451a-9e77-4fbdc66eb9b1",
     "showTitle": false,
     "tableResultSettingsMap": {},
     "title": ""
    }
   },
   "outputs": [
    {
     "output_type": "stream",
     "name": "stdout",
     "output_type": "stream",
     "text": [
      "Out[25]: array(['0', '0', '0', '0', '0', '0', '0', '1', '0', '0', '0', '0', '0',\n       '0', '0', '0', '0', '0', '1', '0', '0', '1', '0', '1', '0', '1',\n       '0', '0', '0', '0', '0', '1', '1', '0', '0', '0', '0', '0', '0',\n       '1', '0', '0', '0', '0', '1', '0', '0', '1', '0', '1', '1', '0',\n       '0', '0', '1', '1', '0', '0', '1', '0', '0', '1', '0', '1', '0',\n       '1', '0', '0', '0', '0', '1', '0', '0', '1', '0', '0', '0', '0',\n       '1', '1', '1', '0', '0', '0', '1', '1', '0', '1', '1', '0', '0',\n       '1', '0', '0', '0', '1', '0', '1', '1', '1'], dtype=object)"
     ]
    }
   ],
   "source": [
    "y_test"
   ]
  },
  {
   "cell_type": "code",
   "execution_count": 0,
   "metadata": {
    "application/vnd.databricks.v1+cell": {
     "cellMetadata": {
      "byteLimit": 2048000,
      "rowLimit": 10000
     },
     "inputWidgets": {},
     "nuid": "071e9557-b1fb-4f28-a366-de59a4ccbce7",
     "showTitle": false,
     "tableResultSettingsMap": {},
     "title": ""
    }
   },
   "outputs": [
    {
     "output_type": "stream",
     "name": "stdout",
     "output_type": "stream",
     "text": [
      "Out[26]: array(['0', '0', '0', '0', '0', '0', '0', '1', '0', '0', '0', '0', '0',\n       '1', '0', '1', '1', '0', '1', '0', '0', '0', '0', '1', '0', '1',\n       '0', '0', '0', '0', '0', '0', '1', '0', '0', '0', '0', '0', '0',\n       '1', '0', '0', '0', '0', '1', '0', '0', '1', '0', '1', '1', '0',\n       '0', '1', '1', '1', '0', '0', '1', '0', '0', '1', '0', '1', '0',\n       '1', '0', '0', '0', '1', '1', '0', '0', '1', '0', '0', '0', '0',\n       '1', '1', '1', '1', '0', '0', '1', '0', '0', '1', '1', '0', '0',\n       '1', '0', '0', '0', '1', '0', '1', '1', '1'], dtype=object)"
     ]
    }
   ],
   "source": [
    "y_pred"
   ]
  },
  {
   "cell_type": "code",
   "execution_count": 0,
   "metadata": {
    "application/vnd.databricks.v1+cell": {
     "cellMetadata": {
      "byteLimit": 2048000,
      "rowLimit": 10000
     },
     "inputWidgets": {},
     "nuid": "bd1ae2a2-1f7f-4ad9-aa21-c2b3c02e3fb3",
     "showTitle": false,
     "tableResultSettingsMap": {},
     "title": ""
    }
   },
   "outputs": [],
   "source": [
    "from sklearn.metrics import confusion_matrix\n",
    "cm=confusion_matrix(y_test,y_pred)"
   ]
  },
  {
   "cell_type": "code",
   "execution_count": 0,
   "metadata": {
    "application/vnd.databricks.v1+cell": {
     "cellMetadata": {
      "byteLimit": 2048000,
      "rowLimit": 10000
     },
     "inputWidgets": {},
     "nuid": "f6ec76b5-21f3-4a87-ab7e-376bd4eafbf9",
     "showTitle": false,
     "tableResultSettingsMap": {},
     "title": ""
    }
   },
   "outputs": [
    {
     "output_type": "stream",
     "name": "stdout",
     "output_type": "stream",
     "text": [
      "Out[28]: array([[62,  6],\n       [ 3, 29]])"
     ]
    }
   ],
   "source": [
    "cm"
   ]
  },
  {
   "cell_type": "code",
   "execution_count": 0,
   "metadata": {
    "application/vnd.databricks.v1+cell": {
     "cellMetadata": {
      "byteLimit": 2048000,
      "rowLimit": 10000
     },
     "inputWidgets": {},
     "nuid": "bfb09bf1-5988-4d8d-93ec-f46c9f07a43f",
     "showTitle": false,
     "tableResultSettingsMap": {},
     "title": ""
    }
   },
   "outputs": [
    {
     "output_type": "stream",
     "name": "stdout",
     "output_type": "stream",
     "text": [
      "Out[29]: 0.91"
     ]
    }
   ],
   "source": [
    "model.score(X_test,y_test)"
   ]
  },
  {
   "cell_type": "code",
   "execution_count": 0,
   "metadata": {
    "application/vnd.databricks.v1+cell": {
     "cellMetadata": {
      "byteLimit": 2048000,
      "rowLimit": 10000
     },
     "inputWidgets": {},
     "nuid": "cf698d51-516f-4333-8428-6c4fd55554c3",
     "showTitle": false,
     "tableResultSettingsMap": {},
     "title": ""
    }
   },
   "outputs": [],
   "source": []
  }
 ],
 "metadata": {
  "application/vnd.databricks.v1+notebook": {
   "computePreferences": null,
   "dashboards": [],
   "environmentMetadata": {
    "base_environment": "",
    "environment_version": "1"
   },
   "inputWidgetPreferences": null,
   "language": "python",
   "notebookMetadata": {
    "pythonIndentUnit": 4
   },
   "notebookName": "9. Decision Tree Classifier",
   "widgets": {}
  }
 },
 "nbformat": 4,
 "nbformat_minor": 0
}