{
 "cells": [
  {
   "cell_type": "code",
   "execution_count": 0,
   "metadata": {
    "application/vnd.databricks.v1+cell": {
     "cellMetadata": {
      "byteLimit": 2048000,
      "rowLimit": 10000
     },
     "inputWidgets": {},
     "nuid": "11afefa9-28dd-4360-8fdb-cd19406878e1",
     "showTitle": false,
     "tableResultSettingsMap": {},
     "title": ""
    }
   },
   "outputs": [
    {
     "output_type": "stream",
     "name": "stdout",
     "output_type": "stream",
     "text": [
      "30\n"
     ]
    }
   ],
   "source": [
    "print (10+20)"
   ]
  },
  {
   "cell_type": "markdown",
   "metadata": {
    "application/vnd.databricks.v1+cell": {
     "cellMetadata": {
      "byteLimit": 2048000,
      "rowLimit": 10000
     },
     "inputWidgets": {},
     "nuid": "5eaf4da9-e2ec-4bb8-b410-506b10f8b46f",
     "showTitle": false,
     "tableResultSettingsMap": {},
     "title": ""
    }
   },
   "source": [
    "#####1. Loading The Dataset"
   ]
  },
  {
   "cell_type": "code",
   "execution_count": 0,
   "metadata": {
    "application/vnd.databricks.v1+cell": {
     "cellMetadata": {
      "byteLimit": 2048000,
      "rowLimit": 10000
     },
     "inputWidgets": {},
     "nuid": "31eb9a98-9f4a-400c-b53a-7888e8b5f8bb",
     "showTitle": false,
     "tableResultSettingsMap": {},
     "title": ""
    }
   },
   "outputs": [],
   "source": [
    "df=spark.read.option(\"header\",True).option(\"inferSchema\",True).csv(\"/FileStore/tables/Salary_Data-2.csv\")"
   ]
  },
  {
   "cell_type": "code",
   "execution_count": 0,
   "metadata": {
    "application/vnd.databricks.v1+cell": {
     "cellMetadata": {
      "byteLimit": 2048000,
      "rowLimit": 10000
     },
     "inputWidgets": {},
     "nuid": "fb67b89a-09e6-4c95-822e-d6fcba661a7b",
     "showTitle": false,
     "tableResultSettingsMap": {},
     "title": ""
    }
   },
   "outputs": [
    {
     "output_type": "display_data",
     "data": {
      "text/html": [
       "<style scoped>\n",
       "  .table-result-container {\n",
       "    max-height: 300px;\n",
       "    overflow: auto;\n",
       "  }\n",
       "  table, th, td {\n",
       "    border: 1px solid black;\n",
       "    border-collapse: collapse;\n",
       "  }\n",
       "  th, td {\n",
       "    padding: 5px;\n",
       "  }\n",
       "  th {\n",
       "    text-align: left;\n",
       "  }\n",
       "</style><div class='table-result-container'><table class='table-result'><thead style='background-color: white'><tr><th>YearsExperience</th><th>Salary</th></tr></thead><tbody><tr><td>1.1</td><td>39343.0</td></tr><tr><td>1.3</td><td>46205.0</td></tr><tr><td>1.5</td><td>37731.0</td></tr><tr><td>2.0</td><td>43525.0</td></tr><tr><td>2.2</td><td>39891.0</td></tr><tr><td>2.9</td><td>56642.0</td></tr><tr><td>3.0</td><td>60150.0</td></tr><tr><td>3.2</td><td>54445.0</td></tr><tr><td>3.2</td><td>64445.0</td></tr><tr><td>3.7</td><td>57189.0</td></tr><tr><td>3.9</td><td>63218.0</td></tr><tr><td>4.0</td><td>55794.0</td></tr><tr><td>4.0</td><td>56957.0</td></tr><tr><td>4.1</td><td>57081.0</td></tr><tr><td>4.5</td><td>61111.0</td></tr><tr><td>4.9</td><td>67938.0</td></tr><tr><td>5.1</td><td>66029.0</td></tr><tr><td>5.3</td><td>83088.0</td></tr><tr><td>5.9</td><td>81363.0</td></tr><tr><td>6.0</td><td>93940.0</td></tr><tr><td>6.8</td><td>91738.0</td></tr><tr><td>7.1</td><td>98273.0</td></tr><tr><td>7.9</td><td>101302.0</td></tr><tr><td>8.2</td><td>113812.0</td></tr><tr><td>8.7</td><td>109431.0</td></tr><tr><td>9.0</td><td>105582.0</td></tr><tr><td>9.5</td><td>116969.0</td></tr><tr><td>9.6</td><td>112635.0</td></tr><tr><td>10.3</td><td>122391.0</td></tr><tr><td>10.5</td><td>121872.0</td></tr></tbody></table></div>"
      ]
     },
     "metadata": {
      "application/vnd.databricks.v1+output": {
       "addedWidgets": {},
       "aggData": [],
       "aggError": "",
       "aggOverflow": false,
       "aggSchema": [],
       "aggSeriesLimitReached": false,
       "aggType": "",
       "arguments": {},
       "columnCustomDisplayInfos": {},
       "data": [
        [
         1.1,
         39343.0
        ],
        [
         1.3,
         46205.0
        ],
        [
         1.5,
         37731.0
        ],
        [
         2.0,
         43525.0
        ],
        [
         2.2,
         39891.0
        ],
        [
         2.9,
         56642.0
        ],
        [
         3.0,
         60150.0
        ],
        [
         3.2,
         54445.0
        ],
        [
         3.2,
         64445.0
        ],
        [
         3.7,
         57189.0
        ],
        [
         3.9,
         63218.0
        ],
        [
         4.0,
         55794.0
        ],
        [
         4.0,
         56957.0
        ],
        [
         4.1,
         57081.0
        ],
        [
         4.5,
         61111.0
        ],
        [
         4.9,
         67938.0
        ],
        [
         5.1,
         66029.0
        ],
        [
         5.3,
         83088.0
        ],
        [
         5.9,
         81363.0
        ],
        [
         6.0,
         93940.0
        ],
        [
         6.8,
         91738.0
        ],
        [
         7.1,
         98273.0
        ],
        [
         7.9,
         101302.0
        ],
        [
         8.2,
         113812.0
        ],
        [
         8.7,
         109431.0
        ],
        [
         9.0,
         105582.0
        ],
        [
         9.5,
         116969.0
        ],
        [
         9.6,
         112635.0
        ],
        [
         10.3,
         122391.0
        ],
        [
         10.5,
         121872.0
        ]
       ],
       "datasetInfos": [],
       "dbfsResultPath": null,
       "isJsonSchema": true,
       "metadata": {},
       "overflow": false,
       "plotOptions": {
        "customPlotOptions": {},
        "displayType": "table",
        "pivotAggregation": null,
        "pivotColumns": null,
        "xColumns": null,
        "yColumns": null
       },
       "removedWidgets": [],
       "schema": [
        {
         "metadata": "{}",
         "name": "YearsExperience",
         "type": "\"double\""
        },
        {
         "metadata": "{}",
         "name": "Salary",
         "type": "\"double\""
        }
       ],
       "type": "table"
      }
     },
     "output_type": "display_data"
    }
   ],
   "source": [
    "display(df)"
   ]
  },
  {
   "cell_type": "code",
   "execution_count": 0,
   "metadata": {
    "application/vnd.databricks.v1+cell": {
     "cellMetadata": {
      "byteLimit": 2048000,
      "rowLimit": 10000
     },
     "inputWidgets": {},
     "nuid": "deb76b5d-f76f-440e-b058-a84a8400dd92",
     "showTitle": false,
     "tableResultSettingsMap": {},
     "title": ""
    }
   },
   "outputs": [
    {
     "output_type": "display_data",
     "data": {
      "text/html": [
       "<div>\n",
       "<style scoped>\n",
       "    .dataframe tbody tr th:only-of-type {\n",
       "        vertical-align: middle;\n",
       "    }\n",
       "\n",
       "    .dataframe tbody tr th {\n",
       "        vertical-align: top;\n",
       "    }\n",
       "\n",
       "    .dataframe thead th {\n",
       "        text-align: right;\n",
       "    }\n",
       "</style>\n",
       "<table border=\"1\" class=\"dataframe\">\n",
       "  <thead>\n",
       "    <tr style=\"text-align: right;\">\n",
       "      <th></th>\n",
       "      <th>YearsExperience</th>\n",
       "      <th>Salary</th>\n",
       "    </tr>\n",
       "  </thead>\n",
       "  <tbody>\n",
       "    <tr>\n",
       "      <th>0</th>\n",
       "      <td>1.1</td>\n",
       "      <td>39343.0</td>\n",
       "    </tr>\n",
       "    <tr>\n",
       "      <th>1</th>\n",
       "      <td>1.3</td>\n",
       "      <td>46205.0</td>\n",
       "    </tr>\n",
       "    <tr>\n",
       "      <th>2</th>\n",
       "      <td>1.5</td>\n",
       "      <td>37731.0</td>\n",
       "    </tr>\n",
       "    <tr>\n",
       "      <th>3</th>\n",
       "      <td>2.0</td>\n",
       "      <td>43525.0</td>\n",
       "    </tr>\n",
       "    <tr>\n",
       "      <th>4</th>\n",
       "      <td>2.2</td>\n",
       "      <td>39891.0</td>\n",
       "    </tr>\n",
       "    <tr>\n",
       "      <th>5</th>\n",
       "      <td>2.9</td>\n",
       "      <td>56642.0</td>\n",
       "    </tr>\n",
       "    <tr>\n",
       "      <th>6</th>\n",
       "      <td>3.0</td>\n",
       "      <td>60150.0</td>\n",
       "    </tr>\n",
       "    <tr>\n",
       "      <th>7</th>\n",
       "      <td>3.2</td>\n",
       "      <td>54445.0</td>\n",
       "    </tr>\n",
       "    <tr>\n",
       "      <th>8</th>\n",
       "      <td>3.2</td>\n",
       "      <td>64445.0</td>\n",
       "    </tr>\n",
       "    <tr>\n",
       "      <th>9</th>\n",
       "      <td>3.7</td>\n",
       "      <td>57189.0</td>\n",
       "    </tr>\n",
       "    <tr>\n",
       "      <th>10</th>\n",
       "      <td>3.9</td>\n",
       "      <td>63218.0</td>\n",
       "    </tr>\n",
       "    <tr>\n",
       "      <th>11</th>\n",
       "      <td>4.0</td>\n",
       "      <td>55794.0</td>\n",
       "    </tr>\n",
       "    <tr>\n",
       "      <th>12</th>\n",
       "      <td>4.0</td>\n",
       "      <td>56957.0</td>\n",
       "    </tr>\n",
       "    <tr>\n",
       "      <th>13</th>\n",
       "      <td>4.1</td>\n",
       "      <td>57081.0</td>\n",
       "    </tr>\n",
       "    <tr>\n",
       "      <th>14</th>\n",
       "      <td>4.5</td>\n",
       "      <td>61111.0</td>\n",
       "    </tr>\n",
       "    <tr>\n",
       "      <th>15</th>\n",
       "      <td>4.9</td>\n",
       "      <td>67938.0</td>\n",
       "    </tr>\n",
       "    <tr>\n",
       "      <th>16</th>\n",
       "      <td>5.1</td>\n",
       "      <td>66029.0</td>\n",
       "    </tr>\n",
       "    <tr>\n",
       "      <th>17</th>\n",
       "      <td>5.3</td>\n",
       "      <td>83088.0</td>\n",
       "    </tr>\n",
       "    <tr>\n",
       "      <th>18</th>\n",
       "      <td>5.9</td>\n",
       "      <td>81363.0</td>\n",
       "    </tr>\n",
       "    <tr>\n",
       "      <th>19</th>\n",
       "      <td>6.0</td>\n",
       "      <td>93940.0</td>\n",
       "    </tr>\n",
       "    <tr>\n",
       "      <th>20</th>\n",
       "      <td>6.8</td>\n",
       "      <td>91738.0</td>\n",
       "    </tr>\n",
       "    <tr>\n",
       "      <th>21</th>\n",
       "      <td>7.1</td>\n",
       "      <td>98273.0</td>\n",
       "    </tr>\n",
       "    <tr>\n",
       "      <th>22</th>\n",
       "      <td>7.9</td>\n",
       "      <td>101302.0</td>\n",
       "    </tr>\n",
       "    <tr>\n",
       "      <th>23</th>\n",
       "      <td>8.2</td>\n",
       "      <td>113812.0</td>\n",
       "    </tr>\n",
       "    <tr>\n",
       "      <th>24</th>\n",
       "      <td>8.7</td>\n",
       "      <td>109431.0</td>\n",
       "    </tr>\n",
       "    <tr>\n",
       "      <th>25</th>\n",
       "      <td>9.0</td>\n",
       "      <td>105582.0</td>\n",
       "    </tr>\n",
       "    <tr>\n",
       "      <th>26</th>\n",
       "      <td>9.5</td>\n",
       "      <td>116969.0</td>\n",
       "    </tr>\n",
       "    <tr>\n",
       "      <th>27</th>\n",
       "      <td>9.6</td>\n",
       "      <td>112635.0</td>\n",
       "    </tr>\n",
       "    <tr>\n",
       "      <th>28</th>\n",
       "      <td>10.3</td>\n",
       "      <td>122391.0</td>\n",
       "    </tr>\n",
       "    <tr>\n",
       "      <th>29</th>\n",
       "      <td>10.5</td>\n",
       "      <td>121872.0</td>\n",
       "    </tr>\n",
       "  </tbody>\n",
       "</table>\n",
       "</div>"
      ]
     },
     "metadata": {
      "application/vnd.databricks.v1+output": {
       "addedWidgets": {},
       "arguments": {},
       "data": "<div>\n<style scoped>\n    .dataframe tbody tr th:only-of-type {\n        vertical-align: middle;\n    }\n\n    .dataframe tbody tr th {\n        vertical-align: top;\n    }\n\n    .dataframe thead th {\n        text-align: right;\n    }\n</style>\n<table border=\"1\" class=\"dataframe\">\n  <thead>\n    <tr style=\"text-align: right;\">\n      <th></th>\n      <th>YearsExperience</th>\n      <th>Salary</th>\n    </tr>\n  </thead>\n  <tbody>\n    <tr>\n      <th>0</th>\n      <td>1.1</td>\n      <td>39343.0</td>\n    </tr>\n    <tr>\n      <th>1</th>\n      <td>1.3</td>\n      <td>46205.0</td>\n    </tr>\n    <tr>\n      <th>2</th>\n      <td>1.5</td>\n      <td>37731.0</td>\n    </tr>\n    <tr>\n      <th>3</th>\n      <td>2.0</td>\n      <td>43525.0</td>\n    </tr>\n    <tr>\n      <th>4</th>\n      <td>2.2</td>\n      <td>39891.0</td>\n    </tr>\n    <tr>\n      <th>5</th>\n      <td>2.9</td>\n      <td>56642.0</td>\n    </tr>\n    <tr>\n      <th>6</th>\n      <td>3.0</td>\n      <td>60150.0</td>\n    </tr>\n    <tr>\n      <th>7</th>\n      <td>3.2</td>\n      <td>54445.0</td>\n    </tr>\n    <tr>\n      <th>8</th>\n      <td>3.2</td>\n      <td>64445.0</td>\n    </tr>\n    <tr>\n      <th>9</th>\n      <td>3.7</td>\n      <td>57189.0</td>\n    </tr>\n    <tr>\n      <th>10</th>\n      <td>3.9</td>\n      <td>63218.0</td>\n    </tr>\n    <tr>\n      <th>11</th>\n      <td>4.0</td>\n      <td>55794.0</td>\n    </tr>\n    <tr>\n      <th>12</th>\n      <td>4.0</td>\n      <td>56957.0</td>\n    </tr>\n    <tr>\n      <th>13</th>\n      <td>4.1</td>\n      <td>57081.0</td>\n    </tr>\n    <tr>\n      <th>14</th>\n      <td>4.5</td>\n      <td>61111.0</td>\n    </tr>\n    <tr>\n      <th>15</th>\n      <td>4.9</td>\n      <td>67938.0</td>\n    </tr>\n    <tr>\n      <th>16</th>\n      <td>5.1</td>\n      <td>66029.0</td>\n    </tr>\n    <tr>\n      <th>17</th>\n      <td>5.3</td>\n      <td>83088.0</td>\n    </tr>\n    <tr>\n      <th>18</th>\n      <td>5.9</td>\n      <td>81363.0</td>\n    </tr>\n    <tr>\n      <th>19</th>\n      <td>6.0</td>\n      <td>93940.0</td>\n    </tr>\n    <tr>\n      <th>20</th>\n      <td>6.8</td>\n      <td>91738.0</td>\n    </tr>\n    <tr>\n      <th>21</th>\n      <td>7.1</td>\n      <td>98273.0</td>\n    </tr>\n    <tr>\n      <th>22</th>\n      <td>7.9</td>\n      <td>101302.0</td>\n    </tr>\n    <tr>\n      <th>23</th>\n      <td>8.2</td>\n      <td>113812.0</td>\n    </tr>\n    <tr>\n      <th>24</th>\n      <td>8.7</td>\n      <td>109431.0</td>\n    </tr>\n    <tr>\n      <th>25</th>\n      <td>9.0</td>\n      <td>105582.0</td>\n    </tr>\n    <tr>\n      <th>26</th>\n      <td>9.5</td>\n      <td>116969.0</td>\n    </tr>\n    <tr>\n      <th>27</th>\n      <td>9.6</td>\n      <td>112635.0</td>\n    </tr>\n    <tr>\n      <th>28</th>\n      <td>10.3</td>\n      <td>122391.0</td>\n    </tr>\n    <tr>\n      <th>29</th>\n      <td>10.5</td>\n      <td>121872.0</td>\n    </tr>\n  </tbody>\n</table>\n</div>",
       "datasetInfos": [],
       "metadata": {},
       "removedWidgets": [],
       "textData": null,
       "type": "htmlSandbox"
      }
     },
     "output_type": "display_data"
    }
   ],
   "source": [
    "df=df.toPandas()\n",
    "df"
   ]
  },
  {
   "cell_type": "markdown",
   "metadata": {
    "application/vnd.databricks.v1+cell": {
     "cellMetadata": {
      "byteLimit": 2048000,
      "rowLimit": 10000
     },
     "inputWidgets": {},
     "nuid": "1d023971-b919-400b-b44a-2f2538023a83",
     "showTitle": false,
     "tableResultSettingsMap": {},
     "title": ""
    }
   },
   "source": [
    "#####2. Separate Dependent and Independent Columns"
   ]
  },
  {
   "cell_type": "code",
   "execution_count": 0,
   "metadata": {
    "application/vnd.databricks.v1+cell": {
     "cellMetadata": {
      "byteLimit": 2048000,
      "rowLimit": 10000
     },
     "inputWidgets": {},
     "nuid": "5acb5cab-a359-4749-8a88-af6b99839781",
     "showTitle": false,
     "tableResultSettingsMap": {},
     "title": ""
    }
   },
   "outputs": [
    {
     "output_type": "stream",
     "name": "stdout",
     "output_type": "stream",
     "text": [
      "Out[36]: array([[ 1.1],\n       [ 1.3],\n       [ 1.5],\n       [ 2. ],\n       [ 2.2],\n       [ 2.9],\n       [ 3. ],\n       [ 3.2],\n       [ 3.2],\n       [ 3.7],\n       [ 3.9],\n       [ 4. ],\n       [ 4. ],\n       [ 4.1],\n       [ 4.5],\n       [ 4.9],\n       [ 5.1],\n       [ 5.3],\n       [ 5.9],\n       [ 6. ],\n       [ 6.8],\n       [ 7.1],\n       [ 7.9],\n       [ 8.2],\n       [ 8.7],\n       [ 9. ],\n       [ 9.5],\n       [ 9.6],\n       [10.3],\n       [10.5]])"
     ]
    }
   ],
   "source": [
    "\n",
    "\n",
    "X=df.iloc[:, 0:1].values\n",
    "X"
   ]
  },
  {
   "cell_type": "code",
   "execution_count": 0,
   "metadata": {
    "application/vnd.databricks.v1+cell": {
     "cellMetadata": {
      "byteLimit": 2048000,
      "rowLimit": 10000
     },
     "inputWidgets": {},
     "nuid": "c4702fe9-ffb4-4cc4-bf9b-5c52436a7e7f",
     "showTitle": false,
     "tableResultSettingsMap": {},
     "title": ""
    }
   },
   "outputs": [
    {
     "output_type": "stream",
     "name": "stdout",
     "output_type": "stream",
     "text": [
      "Out[37]: array([ 39343.,  46205.,  37731.,  43525.,  39891.,  56642.,  60150.,\n        54445.,  64445.,  57189.,  63218.,  55794.,  56957.,  57081.,\n        61111.,  67938.,  66029.,  83088.,  81363.,  93940.,  91738.,\n        98273., 101302., 113812., 109431., 105582., 116969., 112635.,\n       122391., 121872.])"
     ]
    }
   ],
   "source": [
    "y=df.iloc[:,1].values\n",
    "y"
   ]
  },
  {
   "cell_type": "markdown",
   "metadata": {
    "application/vnd.databricks.v1+cell": {
     "cellMetadata": {
      "byteLimit": 2048000,
      "rowLimit": 10000
     },
     "inputWidgets": {},
     "nuid": "8902794f-4f4b-4ff7-861a-c3cba67c1a5a",
     "showTitle": false,
     "tableResultSettingsMap": {},
     "title": ""
    }
   },
   "source": [
    "#####3.Handling Missing Values"
   ]
  },
  {
   "cell_type": "code",
   "execution_count": 0,
   "metadata": {
    "application/vnd.databricks.v1+cell": {
     "cellMetadata": {
      "byteLimit": 2048000,
      "rowLimit": 10000
     },
     "inputWidgets": {},
     "nuid": "672d3785-3a1f-4ddc-9067-b29f92944496",
     "showTitle": false,
     "tableResultSettingsMap": {},
     "title": ""
    }
   },
   "outputs": [],
   "source": [
    "from sklearn.impute import SimpleImputer\n",
    "import numpy as np\n",
    "Imputer=SimpleImputer(missing_values=np.NaN,strategy=\"mean\")\n",
    "Imputer=Imputer.fit(df.iloc[:,0:2])\n",
    "df.iloc[:,0:2]=Imputer.transform(df.iloc[:,0:2])"
   ]
  },
  {
   "cell_type": "code",
   "execution_count": 0,
   "metadata": {
    "application/vnd.databricks.v1+cell": {
     "cellMetadata": {
      "byteLimit": 2048000,
      "rowLimit": 10000
     },
     "inputWidgets": {},
     "nuid": "c2f9dce5-1d91-4b20-8f12-f99a08dff4fa",
     "showTitle": false,
     "tableResultSettingsMap": {},
     "title": ""
    }
   },
   "outputs": [
    {
     "output_type": "display_data",
     "data": {
      "text/html": [
       "<div>\n",
       "<style scoped>\n",
       "    .dataframe tbody tr th:only-of-type {\n",
       "        vertical-align: middle;\n",
       "    }\n",
       "\n",
       "    .dataframe tbody tr th {\n",
       "        vertical-align: top;\n",
       "    }\n",
       "\n",
       "    .dataframe thead th {\n",
       "        text-align: right;\n",
       "    }\n",
       "</style>\n",
       "<table border=\"1\" class=\"dataframe\">\n",
       "  <thead>\n",
       "    <tr style=\"text-align: right;\">\n",
       "      <th></th>\n",
       "      <th>YearsExperience</th>\n",
       "      <th>Salary</th>\n",
       "    </tr>\n",
       "  </thead>\n",
       "  <tbody>\n",
       "    <tr>\n",
       "      <th>0</th>\n",
       "      <td>1.1</td>\n",
       "      <td>39343.0</td>\n",
       "    </tr>\n",
       "    <tr>\n",
       "      <th>1</th>\n",
       "      <td>1.3</td>\n",
       "      <td>46205.0</td>\n",
       "    </tr>\n",
       "    <tr>\n",
       "      <th>2</th>\n",
       "      <td>1.5</td>\n",
       "      <td>37731.0</td>\n",
       "    </tr>\n",
       "    <tr>\n",
       "      <th>3</th>\n",
       "      <td>2.0</td>\n",
       "      <td>43525.0</td>\n",
       "    </tr>\n",
       "    <tr>\n",
       "      <th>4</th>\n",
       "      <td>2.2</td>\n",
       "      <td>39891.0</td>\n",
       "    </tr>\n",
       "    <tr>\n",
       "      <th>5</th>\n",
       "      <td>2.9</td>\n",
       "      <td>56642.0</td>\n",
       "    </tr>\n",
       "    <tr>\n",
       "      <th>6</th>\n",
       "      <td>3.0</td>\n",
       "      <td>60150.0</td>\n",
       "    </tr>\n",
       "    <tr>\n",
       "      <th>7</th>\n",
       "      <td>3.2</td>\n",
       "      <td>54445.0</td>\n",
       "    </tr>\n",
       "    <tr>\n",
       "      <th>8</th>\n",
       "      <td>3.2</td>\n",
       "      <td>64445.0</td>\n",
       "    </tr>\n",
       "    <tr>\n",
       "      <th>9</th>\n",
       "      <td>3.7</td>\n",
       "      <td>57189.0</td>\n",
       "    </tr>\n",
       "    <tr>\n",
       "      <th>10</th>\n",
       "      <td>3.9</td>\n",
       "      <td>63218.0</td>\n",
       "    </tr>\n",
       "    <tr>\n",
       "      <th>11</th>\n",
       "      <td>4.0</td>\n",
       "      <td>55794.0</td>\n",
       "    </tr>\n",
       "    <tr>\n",
       "      <th>12</th>\n",
       "      <td>4.0</td>\n",
       "      <td>56957.0</td>\n",
       "    </tr>\n",
       "    <tr>\n",
       "      <th>13</th>\n",
       "      <td>4.1</td>\n",
       "      <td>57081.0</td>\n",
       "    </tr>\n",
       "    <tr>\n",
       "      <th>14</th>\n",
       "      <td>4.5</td>\n",
       "      <td>61111.0</td>\n",
       "    </tr>\n",
       "    <tr>\n",
       "      <th>15</th>\n",
       "      <td>4.9</td>\n",
       "      <td>67938.0</td>\n",
       "    </tr>\n",
       "    <tr>\n",
       "      <th>16</th>\n",
       "      <td>5.1</td>\n",
       "      <td>66029.0</td>\n",
       "    </tr>\n",
       "    <tr>\n",
       "      <th>17</th>\n",
       "      <td>5.3</td>\n",
       "      <td>83088.0</td>\n",
       "    </tr>\n",
       "    <tr>\n",
       "      <th>18</th>\n",
       "      <td>5.9</td>\n",
       "      <td>81363.0</td>\n",
       "    </tr>\n",
       "    <tr>\n",
       "      <th>19</th>\n",
       "      <td>6.0</td>\n",
       "      <td>93940.0</td>\n",
       "    </tr>\n",
       "    <tr>\n",
       "      <th>20</th>\n",
       "      <td>6.8</td>\n",
       "      <td>91738.0</td>\n",
       "    </tr>\n",
       "    <tr>\n",
       "      <th>21</th>\n",
       "      <td>7.1</td>\n",
       "      <td>98273.0</td>\n",
       "    </tr>\n",
       "    <tr>\n",
       "      <th>22</th>\n",
       "      <td>7.9</td>\n",
       "      <td>101302.0</td>\n",
       "    </tr>\n",
       "    <tr>\n",
       "      <th>23</th>\n",
       "      <td>8.2</td>\n",
       "      <td>113812.0</td>\n",
       "    </tr>\n",
       "    <tr>\n",
       "      <th>24</th>\n",
       "      <td>8.7</td>\n",
       "      <td>109431.0</td>\n",
       "    </tr>\n",
       "    <tr>\n",
       "      <th>25</th>\n",
       "      <td>9.0</td>\n",
       "      <td>105582.0</td>\n",
       "    </tr>\n",
       "    <tr>\n",
       "      <th>26</th>\n",
       "      <td>9.5</td>\n",
       "      <td>116969.0</td>\n",
       "    </tr>\n",
       "    <tr>\n",
       "      <th>27</th>\n",
       "      <td>9.6</td>\n",
       "      <td>112635.0</td>\n",
       "    </tr>\n",
       "    <tr>\n",
       "      <th>28</th>\n",
       "      <td>10.3</td>\n",
       "      <td>122391.0</td>\n",
       "    </tr>\n",
       "    <tr>\n",
       "      <th>29</th>\n",
       "      <td>10.5</td>\n",
       "      <td>121872.0</td>\n",
       "    </tr>\n",
       "  </tbody>\n",
       "</table>\n",
       "</div>"
      ]
     },
     "metadata": {
      "application/vnd.databricks.v1+output": {
       "addedWidgets": {},
       "arguments": {},
       "data": "<div>\n<style scoped>\n    .dataframe tbody tr th:only-of-type {\n        vertical-align: middle;\n    }\n\n    .dataframe tbody tr th {\n        vertical-align: top;\n    }\n\n    .dataframe thead th {\n        text-align: right;\n    }\n</style>\n<table border=\"1\" class=\"dataframe\">\n  <thead>\n    <tr style=\"text-align: right;\">\n      <th></th>\n      <th>YearsExperience</th>\n      <th>Salary</th>\n    </tr>\n  </thead>\n  <tbody>\n    <tr>\n      <th>0</th>\n      <td>1.1</td>\n      <td>39343.0</td>\n    </tr>\n    <tr>\n      <th>1</th>\n      <td>1.3</td>\n      <td>46205.0</td>\n    </tr>\n    <tr>\n      <th>2</th>\n      <td>1.5</td>\n      <td>37731.0</td>\n    </tr>\n    <tr>\n      <th>3</th>\n      <td>2.0</td>\n      <td>43525.0</td>\n    </tr>\n    <tr>\n      <th>4</th>\n      <td>2.2</td>\n      <td>39891.0</td>\n    </tr>\n    <tr>\n      <th>5</th>\n      <td>2.9</td>\n      <td>56642.0</td>\n    </tr>\n    <tr>\n      <th>6</th>\n      <td>3.0</td>\n      <td>60150.0</td>\n    </tr>\n    <tr>\n      <th>7</th>\n      <td>3.2</td>\n      <td>54445.0</td>\n    </tr>\n    <tr>\n      <th>8</th>\n      <td>3.2</td>\n      <td>64445.0</td>\n    </tr>\n    <tr>\n      <th>9</th>\n      <td>3.7</td>\n      <td>57189.0</td>\n    </tr>\n    <tr>\n      <th>10</th>\n      <td>3.9</td>\n      <td>63218.0</td>\n    </tr>\n    <tr>\n      <th>11</th>\n      <td>4.0</td>\n      <td>55794.0</td>\n    </tr>\n    <tr>\n      <th>12</th>\n      <td>4.0</td>\n      <td>56957.0</td>\n    </tr>\n    <tr>\n      <th>13</th>\n      <td>4.1</td>\n      <td>57081.0</td>\n    </tr>\n    <tr>\n      <th>14</th>\n      <td>4.5</td>\n      <td>61111.0</td>\n    </tr>\n    <tr>\n      <th>15</th>\n      <td>4.9</td>\n      <td>67938.0</td>\n    </tr>\n    <tr>\n      <th>16</th>\n      <td>5.1</td>\n      <td>66029.0</td>\n    </tr>\n    <tr>\n      <th>17</th>\n      <td>5.3</td>\n      <td>83088.0</td>\n    </tr>\n    <tr>\n      <th>18</th>\n      <td>5.9</td>\n      <td>81363.0</td>\n    </tr>\n    <tr>\n      <th>19</th>\n      <td>6.0</td>\n      <td>93940.0</td>\n    </tr>\n    <tr>\n      <th>20</th>\n      <td>6.8</td>\n      <td>91738.0</td>\n    </tr>\n    <tr>\n      <th>21</th>\n      <td>7.1</td>\n      <td>98273.0</td>\n    </tr>\n    <tr>\n      <th>22</th>\n      <td>7.9</td>\n      <td>101302.0</td>\n    </tr>\n    <tr>\n      <th>23</th>\n      <td>8.2</td>\n      <td>113812.0</td>\n    </tr>\n    <tr>\n      <th>24</th>\n      <td>8.7</td>\n      <td>109431.0</td>\n    </tr>\n    <tr>\n      <th>25</th>\n      <td>9.0</td>\n      <td>105582.0</td>\n    </tr>\n    <tr>\n      <th>26</th>\n      <td>9.5</td>\n      <td>116969.0</td>\n    </tr>\n    <tr>\n      <th>27</th>\n      <td>9.6</td>\n      <td>112635.0</td>\n    </tr>\n    <tr>\n      <th>28</th>\n      <td>10.3</td>\n      <td>122391.0</td>\n    </tr>\n    <tr>\n      <th>29</th>\n      <td>10.5</td>\n      <td>121872.0</td>\n    </tr>\n  </tbody>\n</table>\n</div>",
       "datasetInfos": [],
       "metadata": {},
       "removedWidgets": [],
       "textData": null,
       "type": "htmlSandbox"
      }
     },
     "output_type": "display_data"
    }
   ],
   "source": [
    "df"
   ]
  },
  {
   "cell_type": "markdown",
   "metadata": {
    "application/vnd.databricks.v1+cell": {
     "cellMetadata": {
      "byteLimit": 2048000,
      "rowLimit": 10000
     },
     "inputWidgets": {},
     "nuid": "06426935-bf40-4e19-8905-6cd808e7874b",
     "showTitle": false,
     "tableResultSettingsMap": {},
     "title": ""
    }
   },
   "source": [
    "#####4.Train-Test Split"
   ]
  },
  {
   "cell_type": "code",
   "execution_count": 0,
   "metadata": {
    "application/vnd.databricks.v1+cell": {
     "cellMetadata": {
      "byteLimit": 2048000,
      "rowLimit": 10000
     },
     "inputWidgets": {},
     "nuid": "ca17aa5f-07f6-433f-a4d9-b8653bd29855",
     "showTitle": false,
     "tableResultSettingsMap": {},
     "title": ""
    }
   },
   "outputs": [],
   "source": [
    "from sklearn.model_selection import train_test_split\n",
    "X_train,X_test,y_train,y_test=train_test_split(X,y,test_size=0.2)"
   ]
  },
  {
   "cell_type": "code",
   "execution_count": 0,
   "metadata": {
    "application/vnd.databricks.v1+cell": {
     "cellMetadata": {
      "byteLimit": 2048000,
      "rowLimit": 10000
     },
     "inputWidgets": {},
     "nuid": "67db1882-5d5a-445b-873c-153375117a7f",
     "showTitle": false,
     "tableResultSettingsMap": {},
     "title": ""
    }
   },
   "outputs": [
    {
     "output_type": "stream",
     "name": "stdout",
     "output_type": "stream",
     "text": [
      "Out[41]: array([[ 3.2],\n       [ 4.9],\n       [ 1.5],\n       [10.5],\n       [ 8.7],\n       [ 3. ],\n       [ 3.7],\n       [ 3.2],\n       [ 9. ],\n       [ 4.1],\n       [ 4. ],\n       [ 5.1],\n       [ 4. ],\n       [ 7.9],\n       [ 2.9],\n       [10.3],\n       [ 3.9],\n       [ 6. ],\n       [ 2. ],\n       [ 5.9],\n       [ 6.8],\n       [ 4.5],\n       [ 1.1],\n       [ 1.3]])"
     ]
    }
   ],
   "source": [
    "X_train"
   ]
  },
  {
   "cell_type": "code",
   "execution_count": 0,
   "metadata": {
    "application/vnd.databricks.v1+cell": {
     "cellMetadata": {
      "byteLimit": 2048000,
      "rowLimit": 10000
     },
     "inputWidgets": {},
     "nuid": "f489f05b-8175-4908-a554-804aaaa05a7a",
     "showTitle": false,
     "tableResultSettingsMap": {},
     "title": ""
    }
   },
   "outputs": [
    {
     "output_type": "stream",
     "name": "stdout",
     "output_type": "stream",
     "text": [
      "Out[42]: array([[5.3],\n       [9.6],\n       [8.2],\n       [2.2],\n       [9.5],\n       [7.1]])"
     ]
    }
   ],
   "source": [
    "X_test"
   ]
  },
  {
   "cell_type": "code",
   "execution_count": 0,
   "metadata": {
    "application/vnd.databricks.v1+cell": {
     "cellMetadata": {
      "byteLimit": 2048000,
      "rowLimit": 10000
     },
     "inputWidgets": {},
     "nuid": "ccb19896-425b-41c7-ae59-bc6586d13045",
     "showTitle": false,
     "tableResultSettingsMap": {},
     "title": ""
    }
   },
   "outputs": [
    {
     "output_type": "stream",
     "name": "stdout",
     "output_type": "stream",
     "text": [
      "Out[43]: array([ 64445.,  67938.,  37731., 121872., 109431.,  60150.,  57189.,\n        54445., 105582.,  57081.,  56957.,  66029.,  55794., 101302.,\n        56642., 122391.,  63218.,  93940.,  43525.,  81363.,  91738.,\n        61111.,  39343.,  46205.])"
     ]
    }
   ],
   "source": [
    "y_train"
   ]
  },
  {
   "cell_type": "code",
   "execution_count": 0,
   "metadata": {
    "application/vnd.databricks.v1+cell": {
     "cellMetadata": {
      "byteLimit": 2048000,
      "rowLimit": 10000
     },
     "inputWidgets": {},
     "nuid": "002e8415-5176-424c-8ec2-e19f2a443356",
     "showTitle": false,
     "tableResultSettingsMap": {},
     "title": ""
    }
   },
   "outputs": [
    {
     "output_type": "stream",
     "name": "stdout",
     "output_type": "stream",
     "text": [
      "Out[44]: array([ 83088., 112635., 113812.,  39891., 116969.,  98273.])"
     ]
    }
   ],
   "source": [
    "y_test"
   ]
  },
  {
   "cell_type": "markdown",
   "metadata": {
    "application/vnd.databricks.v1+cell": {
     "cellMetadata": {},
     "inputWidgets": {},
     "nuid": "110c6b3b-3318-4195-8d27-1eef58f2c107",
     "showTitle": false,
     "tableResultSettingsMap": {},
     "title": ""
    }
   },
   "source": [
    "#####5.Creating Model"
   ]
  },
  {
   "cell_type": "code",
   "execution_count": 0,
   "metadata": {
    "application/vnd.databricks.v1+cell": {
     "cellMetadata": {
      "byteLimit": 2048000,
      "rowLimit": 10000
     },
     "inputWidgets": {},
     "nuid": "2a04221a-ed34-48b8-9666-d30dc8957979",
     "showTitle": false,
     "tableResultSettingsMap": {},
     "title": ""
    }
   },
   "outputs": [
    {
     "output_type": "stream",
     "name": "stdout",
     "output_type": "stream",
     "text": [
      "Out[45]: LinearRegression()"
     ]
    }
   ],
   "source": [
    "from sklearn.linear_model import LinearRegression\n",
    "model1=LinearRegression()\n",
    "model1.fit(X_train,y_train)"
   ]
  },
  {
   "cell_type": "code",
   "execution_count": 0,
   "metadata": {
    "application/vnd.databricks.v1+cell": {
     "cellMetadata": {
      "byteLimit": 2048000,
      "rowLimit": 10000
     },
     "inputWidgets": {},
     "nuid": "bd6c5675-7495-40cc-836b-4e5d025ed0e6",
     "showTitle": false,
     "tableResultSettingsMap": {},
     "title": ""
    }
   },
   "outputs": [],
   "source": [
    "y_pred=model1.predict(X_test)"
   ]
  },
  {
   "cell_type": "code",
   "execution_count": 0,
   "metadata": {
    "application/vnd.databricks.v1+cell": {
     "cellMetadata": {
      "byteLimit": 2048000,
      "rowLimit": 10000
     },
     "inputWidgets": {},
     "nuid": "31c43c31-25c1-480f-a684-983e13050d60",
     "showTitle": false,
     "tableResultSettingsMap": {},
     "title": ""
    }
   },
   "outputs": [
    {
     "output_type": "stream",
     "name": "stdout",
     "output_type": "stream",
     "text": [
      "Out[47]: array([ 75164.26257925, 114405.22115438, 101629.09510666,  46874.26918788,\n       113492.6407224 ,  91590.71035489])"
     ]
    }
   ],
   "source": [
    "y_pred"
   ]
  },
  {
   "cell_type": "code",
   "execution_count": 0,
   "metadata": {
    "application/vnd.databricks.v1+cell": {
     "cellMetadata": {
      "byteLimit": 2048000,
      "rowLimit": 10000
     },
     "inputWidgets": {},
     "nuid": "2f50863d-74ff-4c9d-87db-be3eea807113",
     "showTitle": false,
     "tableResultSettingsMap": {},
     "title": ""
    }
   },
   "outputs": [
    {
     "output_type": "stream",
     "name": "stdout",
     "output_type": "stream",
     "text": [
      "Out[49]: array([ 83088., 112635., 113812.,  39891., 116969.,  98273.])"
     ]
    }
   ],
   "source": [
    "y_test"
   ]
  },
  {
   "cell_type": "code",
   "execution_count": 0,
   "metadata": {
    "application/vnd.databricks.v1+cell": {
     "cellMetadata": {
      "byteLimit": 2048000,
      "rowLimit": 10000
     },
     "inputWidgets": {},
     "nuid": "143aab42-5999-4968-811b-5a0034ea2707",
     "showTitle": false,
     "tableResultSettingsMap": {},
     "title": ""
    }
   },
   "outputs": [
    {
     "output_type": "display_data",
     "data": {
      "image/png": "[encoded data removed]"
     },
     "metadata": {
      "application/vnd.databricks.v1+output": {
       "addedWidgets": {},
       "arguments": {},
       "data": "data:image/png;base64,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\n",
       "datasetInfos": [],
       "metadata": {},
       "removedWidgets": [],
       "type": "image"
      }
     },
     "output_type": "display_data"
    }
   ],
   "source": [
    "import matplotlib.pyplot as plt\n",
    "plt.scatter(X_test.astype('float'),y_test.astype('float'),color='red')\n",
    "plt.plot(X_test,y_pred,color='green')\n",
    "plt.xlabel(\"Experience\")\n",
    "plt.ylabel(\"Salary\")\n",
    "plt.title(\"Salary Prediction\")\n",
    "plt.show()"
   ]
  },
  {
   "cell_type": "code",
   "execution_count": 0,
   "metadata": {
    "application/vnd.databricks.v1+cell": {
     "cellMetadata": {
      "byteLimit": 2048000,
      "rowLimit": 10000
     },
     "inputWidgets": {},
     "nuid": "69684a37-7962-461b-b24f-f240d6f4f3bc",
     "showTitle": false,
     "tableResultSettingsMap": {},
     "title": ""
    }
   },
   "outputs": [
    {
     "output_type": "display_data",
     "data": {
      "image/png": "[encoded data removed]"
     },
     "metadata": {
      "application/vnd.databricks.v1+output": {
       "addedWidgets": {},
       "arguments": {},
       "data": "data:image/png;base64,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\n",
       "datasetInfos": [],
       "metadata": {},
       "removedWidgets": [],
       "type": "image"
      }
     },
     "output_type": "display_data"
    }
   ],
   "source": []
  },
  {
   "cell_type": "code",
   "execution_count": 0,
   "metadata": {
    "application/vnd.databricks.v1+cell": {
     "cellMetadata": {},
     "inputWidgets": {},
     "nuid": "db72c16e-ebe4-454b-b208-933b4cb30aaf",
     "showTitle": false,
     "tableResultSettingsMap": {},
     "title": ""
    }
   },
   "outputs": [],
   "source": []
  }
 ],
 "metadata": {
  "application/vnd.databricks.v1+notebook": {
   "computePreferences": null,
   "dashboards": [],
   "environmentMetadata": null,
   "inputWidgetPreferences": null,
   "language": "python",
   "notebookMetadata": {
    "pythonIndentUnit": 4
   },
   "notebookName": "1. Simple Linear Regression",
   "widgets": {}
  }
 },
 "nbformat": 4,
 "nbformat_minor": 0
}