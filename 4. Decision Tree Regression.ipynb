{
 "cells": [
  {
   "cell_type": "code",
   "execution_count": 0,
   "metadata": {
    "application/vnd.databricks.v1+cell": {
     "cellMetadata": {
      "byteLimit": 2048000,
      "rowLimit": 10000
     },
     "inputWidgets": {},
     "nuid": "d8f74b3e-7ec9-40c5-925c-2545c79ef9d0",
     "showTitle": false,
     "tableResultSettingsMap": {},
     "title": ""
    }
   },
   "outputs": [],
   "source": [
    "df=spark.read.csv('/FileStore/tables/Position_Salaries.csv',header=True,inferSchema=True)"
   ]
  },
  {
   "cell_type": "code",
   "execution_count": 0,
   "metadata": {
    "application/vnd.databricks.v1+cell": {
     "cellMetadata": {
      "byteLimit": 2048000,
      "rowLimit": 10000
     },
     "inputWidgets": {},
     "nuid": "d7dcb798-c86f-4d7b-9b86-b0f03399627c",
     "showTitle": false,
     "tableResultSettingsMap": {},
     "title": ""
    }
   },
   "outputs": [
    {
     "output_type": "stream",
     "name": "stdout",
     "output_type": "stream",
     "text": [
      "Out[2]: DataFrame[Position: string, Level: int, Salary: int]"
     ]
    }
   ],
   "source": [
    "df"
   ]
  },
  {
   "cell_type": "code",
   "execution_count": 0,
   "metadata": {
    "application/vnd.databricks.v1+cell": {
     "cellMetadata": {
      "byteLimit": 2048000,
      "rowLimit": 10000
     },
     "inputWidgets": {},
     "nuid": "ff2c5f82-f688-4bcb-90b5-c20464293559",
     "showTitle": false,
     "tableResultSettingsMap": {},
     "title": ""
    }
   },
   "outputs": [
    {
     "output_type": "display_data",
     "data": {
      "text/html": [
       "<div>\n",
       "<style scoped>\n",
       "    .dataframe tbody tr th:only-of-type {\n",
       "        vertical-align: middle;\n",
       "    }\n",
       "\n",
       "    .dataframe tbody tr th {\n",
       "        vertical-align: top;\n",
       "    }\n",
       "\n",
       "    .dataframe thead th {\n",
       "        text-align: right;\n",
       "    }\n",
       "</style>\n",
       "<table border=\"1\" class=\"dataframe\">\n",
       "  <thead>\n",
       "    <tr style=\"text-align: right;\">\n",
       "      <th></th>\n",
       "      <th>Position</th>\n",
       "      <th>Level</th>\n",
       "      <th>Salary</th>\n",
       "    </tr>\n",
       "  </thead>\n",
       "  <tbody>\n",
       "    <tr>\n",
       "      <th>0</th>\n",
       "      <td>Business Analyst</td>\n",
       "      <td>1</td>\n",
       "      <td>45000</td>\n",
       "    </tr>\n",
       "    <tr>\n",
       "      <th>1</th>\n",
       "      <td>Junior Consultant</td>\n",
       "      <td>2</td>\n",
       "      <td>50000</td>\n",
       "    </tr>\n",
       "    <tr>\n",
       "      <th>2</th>\n",
       "      <td>Senior Consultant</td>\n",
       "      <td>3</td>\n",
       "      <td>60000</td>\n",
       "    </tr>\n",
       "    <tr>\n",
       "      <th>3</th>\n",
       "      <td>Manager</td>\n",
       "      <td>4</td>\n",
       "      <td>80000</td>\n",
       "    </tr>\n",
       "    <tr>\n",
       "      <th>4</th>\n",
       "      <td>Country Manager</td>\n",
       "      <td>5</td>\n",
       "      <td>110000</td>\n",
       "    </tr>\n",
       "    <tr>\n",
       "      <th>5</th>\n",
       "      <td>Region Manager</td>\n",
       "      <td>6</td>\n",
       "      <td>150000</td>\n",
       "    </tr>\n",
       "    <tr>\n",
       "      <th>6</th>\n",
       "      <td>Partner</td>\n",
       "      <td>7</td>\n",
       "      <td>200000</td>\n",
       "    </tr>\n",
       "    <tr>\n",
       "      <th>7</th>\n",
       "      <td>Senior Partner</td>\n",
       "      <td>8</td>\n",
       "      <td>300000</td>\n",
       "    </tr>\n",
       "    <tr>\n",
       "      <th>8</th>\n",
       "      <td>C-level</td>\n",
       "      <td>9</td>\n",
       "      <td>500000</td>\n",
       "    </tr>\n",
       "    <tr>\n",
       "      <th>9</th>\n",
       "      <td>CEO</td>\n",
       "      <td>10</td>\n",
       "      <td>1000000</td>\n",
       "    </tr>\n",
       "  </tbody>\n",
       "</table>\n",
       "</div>"
      ]
     },
     "metadata": {
      "application/vnd.databricks.v1+output": {
       "addedWidgets": {},
       "arguments": {},
       "data": "<div>\n<style scoped>\n    .dataframe tbody tr th:only-of-type {\n        vertical-align: middle;\n    }\n\n    .dataframe tbody tr th {\n        vertical-align: top;\n    }\n\n    .dataframe thead th {\n        text-align: right;\n    }\n</style>\n<table border=\"1\" class=\"dataframe\">\n  <thead>\n    <tr style=\"text-align: right;\">\n      <th></th>\n      <th>Position</th>\n      <th>Level</th>\n      <th>Salary</th>\n    </tr>\n  </thead>\n  <tbody>\n    <tr>\n      <th>0</th>\n      <td>Business Analyst</td>\n      <td>1</td>\n      <td>45000</td>\n    </tr>\n    <tr>\n      <th>1</th>\n      <td>Junior Consultant</td>\n      <td>2</td>\n      <td>50000</td>\n    </tr>\n    <tr>\n      <th>2</th>\n      <td>Senior Consultant</td>\n      <td>3</td>\n      <td>60000</td>\n    </tr>\n    <tr>\n      <th>3</th>\n      <td>Manager</td>\n      <td>4</td>\n      <td>80000</td>\n    </tr>\n    <tr>\n      <th>4</th>\n      <td>Country Manager</td>\n      <td>5</td>\n      <td>110000</td>\n    </tr>\n    <tr>\n      <th>5</th>\n      <td>Region Manager</td>\n      <td>6</td>\n      <td>150000</td>\n    </tr>\n    <tr>\n      <th>6</th>\n      <td>Partner</td>\n      <td>7</td>\n      <td>200000</td>\n    </tr>\n    <tr>\n      <th>7</th>\n      <td>Senior Partner</td>\n      <td>8</td>\n      <td>300000</td>\n    </tr>\n    <tr>\n      <th>8</th>\n      <td>C-level</td>\n      <td>9</td>\n      <td>500000</td>\n    </tr>\n    <tr>\n      <th>9</th>\n      <td>CEO</td>\n      <td>10</td>\n      <td>1000000</td>\n    </tr>\n  </tbody>\n</table>\n</div>",
       "datasetInfos": [],
       "metadata": {},
       "removedWidgets": [],
       "textData": null,
       "type": "htmlSandbox"
      }
     },
     "output_type": "display_data"
    }
   ],
   "source": [
    "df=df.toPandas()\n",
    "df"
   ]
  },
  {
   "cell_type": "code",
   "execution_count": 0,
   "metadata": {
    "application/vnd.databricks.v1+cell": {
     "cellMetadata": {
      "byteLimit": 2048000,
      "rowLimit": 10000
     },
     "inputWidgets": {},
     "nuid": "e705ecf1-6c8b-4052-84f6-dc6b9f4e60bc",
     "showTitle": false,
     "tableResultSettingsMap": {},
     "title": ""
    }
   },
   "outputs": [
    {
     "output_type": "stream",
     "name": "stdout",
     "output_type": "stream",
     "text": [
      "Out[4]: array([[ 1],\n       [ 2],\n       [ 3],\n       [ 4],\n       [ 5],\n       [ 6],\n       [ 7],\n       [ 8],\n       [ 9],\n       [10]], dtype=int32)"
     ]
    }
   ],
   "source": [
    "X=df.iloc[:,1:2].values\n",
    "X"
   ]
  },
  {
   "cell_type": "code",
   "execution_count": 0,
   "metadata": {
    "application/vnd.databricks.v1+cell": {
     "cellMetadata": {
      "byteLimit": 2048000,
      "rowLimit": 10000
     },
     "inputWidgets": {},
     "nuid": "751be06e-452a-48e4-ae18-e50c7a1862e7",
     "showTitle": false,
     "tableResultSettingsMap": {},
     "title": ""
    }
   },
   "outputs": [
    {
     "output_type": "stream",
     "name": "stdout",
     "output_type": "stream",
     "text": [
      "Out[5]: 0      45000\n1      50000\n2      60000\n3      80000\n4     110000\n5     150000\n6     200000\n7     300000\n8     500000\n9    1000000\nName: Salary, dtype: int32"
     ]
    }
   ],
   "source": [
    "y=df.iloc[:,-1]\n",
    "y"
   ]
  },
  {
   "cell_type": "code",
   "execution_count": 0,
   "metadata": {
    "application/vnd.databricks.v1+cell": {
     "cellMetadata": {
      "byteLimit": 2048000,
      "rowLimit": 10000
     },
     "inputWidgets": {},
     "nuid": "4928bcda-6968-42ef-9ff4-45a4caa7060c",
     "showTitle": false,
     "tableResultSettingsMap": {},
     "title": ""
    }
   },
   "outputs": [
    {
     "output_type": "stream",
     "name": "stdout",
     "output_type": "stream",
     "text": [
      "Out[6]: DecisionTreeRegressor()"
     ]
    }
   ],
   "source": [
    "from sklearn.tree import DecisionTreeRegressor\n",
    "model=DecisionTreeRegressor()\n",
    "model.fit(X,y)"
   ]
  },
  {
   "cell_type": "code",
   "execution_count": 0,
   "metadata": {
    "application/vnd.databricks.v1+cell": {
     "cellMetadata": {
      "byteLimit": 2048000,
      "rowLimit": 10000
     },
     "inputWidgets": {},
     "nuid": "88072333-6e3f-422c-9c70-85be7e2980d2",
     "showTitle": false,
     "tableResultSettingsMap": {},
     "title": ""
    }
   },
   "outputs": [
    {
     "output_type": "stream",
     "name": "stdout",
     "output_type": "stream",
     "text": [
      "Out[7]: array([150000.])"
     ]
    }
   ],
   "source": [
    "model.predict([[6.5]])"
   ]
  },
  {
   "cell_type": "code",
   "execution_count": 0,
   "metadata": {
    "application/vnd.databricks.v1+cell": {
     "cellMetadata": {
      "byteLimit": 2048000,
      "rowLimit": 10000
     },
     "inputWidgets": {},
     "nuid": "48776ba5-4547-4da5-942d-75f411575c4d",
     "showTitle": false,
     "tableResultSettingsMap": {},
     "title": ""
    }
   },
   "outputs": [
    {
     "output_type": "display_data",
     "data": {
      "image/png": "[encoded data removed]"
     },
     "metadata": {
      "application/vnd.databricks.v1+output": {
       "addedWidgets": {},
       "arguments": {},
       "data": "data:image/png;base64,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\n",
       "datasetInfos": [],
       "metadata": {},
       "removedWidgets": [],
       "type": "image"
      }
     },
     "output_type": "display_data"
    }
   ],
   "source": [
    "import matplotlib.pyplot as plt\n",
    "plt.scatter(X,y,color=\"red\")\n",
    "plt.plot(X,model.predict(X),color=\"blue\")\n",
    "plt.xlabel(\"Level\")\n",
    "plt.ylabel(\"Salary\")\n",
    "plt.show()"
   ]
  },
  {
   "cell_type": "code",
   "execution_count": 0,
   "metadata": {
    "application/vnd.databricks.v1+cell": {
     "cellMetadata": {
      "byteLimit": 2048000,
      "rowLimit": 10000
     },
     "inputWidgets": {},
     "nuid": "4d43955e-bf4c-44cc-8bf9-9dd5dbf882d7",
     "showTitle": false,
     "tableResultSettingsMap": {},
     "title": ""
    }
   },
   "outputs": [],
   "source": []
  }
 ],
 "metadata": {
  "application/vnd.databricks.v1+notebook": {
   "computePreferences": null,
   "dashboards": [],
   "environmentMetadata": null,
   "inputWidgetPreferences": null,
   "language": "python",
   "notebookMetadata": {
    "pythonIndentUnit": 4
   },
   "notebookName": "4. Decision Tree Regression",
   "widgets": {}
  }
 },
 "nbformat": 4,
 "nbformat_minor": 0
}